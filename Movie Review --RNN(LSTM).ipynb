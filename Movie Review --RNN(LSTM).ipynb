{
 "cells": [
  {
   "cell_type": "markdown",
   "id": "a9a79060",
   "metadata": {},
   "source": [
    "# Movie Review Classification Project"
   ]
  },
  {
   "cell_type": "markdown",
   "id": "0cf989dd",
   "metadata": {},
   "source": [
    "***"
   ]
  },
  {
   "cell_type": "markdown",
   "id": "7aa58775",
   "metadata": {},
   "source": [
    "### Import necessary libraries"
   ]
  },
  {
   "cell_type": "code",
   "execution_count": 11,
   "id": "74f845f5",
   "metadata": {},
   "outputs": [],
   "source": [
    "import numpy as np\n",
    "import pandas as pd\n",
    "import matplotlib.pyplot as plt\n",
    "import seaborn as sns\n",
    "from sklearn.model_selection import train_test_split\n",
    "import re\n",
    "from nltk.corpus import stopwords\n",
    "from nltk.stem import WordNetLemmatizer"
   ]
  },
  {
   "cell_type": "markdown",
   "id": "5fd8dec7",
   "metadata": {},
   "source": [
    "### Read the dataset"
   ]
  },
  {
   "cell_type": "code",
   "execution_count": 2,
   "id": "6fe7d138",
   "metadata": {},
   "outputs": [],
   "source": [
    "df = pd.read_csv('movie_data.csv')"
   ]
  },
  {
   "cell_type": "code",
   "execution_count": 3,
   "id": "4724be1a",
   "metadata": {},
   "outputs": [
    {
     "data": {
      "text/html": [
       "<div>\n",
       "<style scoped>\n",
       "    .dataframe tbody tr th:only-of-type {\n",
       "        vertical-align: middle;\n",
       "    }\n",
       "\n",
       "    .dataframe tbody tr th {\n",
       "        vertical-align: top;\n",
       "    }\n",
       "\n",
       "    .dataframe thead th {\n",
       "        text-align: right;\n",
       "    }\n",
       "</style>\n",
       "<table border=\"1\" class=\"dataframe\">\n",
       "  <thead>\n",
       "    <tr style=\"text-align: right;\">\n",
       "      <th></th>\n",
       "      <th>review</th>\n",
       "      <th>sentiment</th>\n",
       "    </tr>\n",
       "  </thead>\n",
       "  <tbody>\n",
       "    <tr>\n",
       "      <th>0</th>\n",
       "      <td>This movie is just crap. Even though the direc...</td>\n",
       "      <td>0</td>\n",
       "    </tr>\n",
       "    <tr>\n",
       "      <th>1</th>\n",
       "      <td>Another detailed work on the subject by Dr Dwi...</td>\n",
       "      <td>1</td>\n",
       "    </tr>\n",
       "    <tr>\n",
       "      <th>2</th>\n",
       "      <td>THE CAT O'NINE TAILS (Il Gatto a Nove Code) &lt;b...</td>\n",
       "      <td>0</td>\n",
       "    </tr>\n",
       "    <tr>\n",
       "      <th>3</th>\n",
       "      <td>Like with any movie genre, there are good gang...</td>\n",
       "      <td>0</td>\n",
       "    </tr>\n",
       "    <tr>\n",
       "      <th>4</th>\n",
       "      <td>I watched it with my mom and we were like...&lt;b...</td>\n",
       "      <td>0</td>\n",
       "    </tr>\n",
       "  </tbody>\n",
       "</table>\n",
       "</div>"
      ],
      "text/plain": [
       "                                              review  sentiment\n",
       "0  This movie is just crap. Even though the direc...          0\n",
       "1  Another detailed work on the subject by Dr Dwi...          1\n",
       "2  THE CAT O'NINE TAILS (Il Gatto a Nove Code) <b...          0\n",
       "3  Like with any movie genre, there are good gang...          0\n",
       "4  I watched it with my mom and we were like...<b...          0"
      ]
     },
     "execution_count": 3,
     "metadata": {},
     "output_type": "execute_result"
    }
   ],
   "source": [
    "df.head()"
   ]
  },
  {
   "cell_type": "markdown",
   "id": "d56625f9",
   "metadata": {},
   "source": [
    "### Check the info"
   ]
  },
  {
   "cell_type": "code",
   "execution_count": 7,
   "id": "3de8287f",
   "metadata": {},
   "outputs": [
    {
     "name": "stdout",
     "output_type": "stream",
     "text": [
      "<class 'pandas.core.frame.DataFrame'>\n",
      "RangeIndex: 49969 entries, 0 to 49968\n",
      "Data columns (total 2 columns):\n",
      " #   Column     Non-Null Count  Dtype \n",
      "---  ------     --------------  ----- \n",
      " 0   review     49969 non-null  object\n",
      " 1   sentiment  49969 non-null  int64 \n",
      "dtypes: int64(1), object(1)\n",
      "memory usage: 780.9+ KB\n"
     ]
    }
   ],
   "source": [
    "df.info()"
   ]
  },
  {
   "cell_type": "markdown",
   "id": "6058a124",
   "metadata": {},
   "source": [
    "### Lets slice the data to reduce training time"
   ]
  },
  {
   "cell_type": "code",
   "execution_count": 14,
   "id": "a32f6838",
   "metadata": {},
   "outputs": [],
   "source": [
    "df = df.head(10000)"
   ]
  },
  {
   "cell_type": "markdown",
   "id": "ee59dec5",
   "metadata": {},
   "source": [
    "### Check for imbalanced data"
   ]
  },
  {
   "cell_type": "code",
   "execution_count": 15,
   "id": "e478dfa9",
   "metadata": {},
   "outputs": [
    {
     "data": {
      "text/plain": [
       "1    5043\n",
       "0    4957\n",
       "Name: sentiment, dtype: int64"
      ]
     },
     "execution_count": 15,
     "metadata": {},
     "output_type": "execute_result"
    }
   ],
   "source": [
    "df['sentiment'].value_counts()"
   ]
  },
  {
   "cell_type": "code",
   "execution_count": 16,
   "id": "1c076fac",
   "metadata": {},
   "outputs": [
    {
     "data": {
      "text/plain": [
       "<Axes: ylabel='sentiment'>"
      ]
     },
     "execution_count": 16,
     "metadata": {},
     "output_type": "execute_result"
    },
    {
     "data": {
      "image/png": "[encoded data removed]",
      "text/plain": [
       "<Figure size 640x480 with 2 Axes>"
      ]
     },
     "metadata": {},
     "output_type": "display_data"
    }
   ],
   "source": [
    "plt.subplot(1,2,1)\n",
    "sns.countplot(x=df['sentiment'])\n",
    "\n",
    "plt.subplot(1,2,2)\n",
    "df['sentiment'].value_counts().plot(kind='pie',autopct = \"%1.1f%%\")"
   ]
  },
  {
   "cell_type": "markdown",
   "id": "73b2ad33",
   "metadata": {},
   "source": [
    "### Create a function to preprocess the review column"
   ]
  },
  {
   "cell_type": "code",
   "execution_count": 12,
   "id": "3f7ba5c1",
   "metadata": {},
   "outputs": [],
   "source": [
    "def preprocess(sentence):\n",
    "    text = re.sub(r\"[^a-z0-9A-Z]\",\" \",sentence).split()\n",
    "    words = [x.lower() for x in text if x not in stopwords.words('english')]\n",
    "    \n",
    "    lemma = WordNetLemmatizer()\n",
    "    word = [lemma.lemmatize(word,'v') for word in words]\n",
    "    \n",
    "    word = ' '.join(word)\n",
    "    return word"
   ]
  },
  {
   "cell_type": "markdown",
   "id": "ef8f92f4",
   "metadata": {},
   "source": [
    "### Print some text after preprocessing the function"
   ]
  },
  {
   "cell_type": "code",
   "execution_count": 17,
   "id": "532f88a0",
   "metadata": {},
   "outputs": [],
   "source": [
    "df['review'] = df['review'].apply(preprocess)"
   ]
  },
  {
   "cell_type": "code",
   "execution_count": 18,
   "id": "b4fb254a",
   "metadata": {},
   "outputs": [
    {
     "name": "stdout",
     "output_type": "stream",
     "text": [
      "this movie crap even though directors claim part oi culture still bad directorial debut the topic interest i accept bad act due fact amateurs never act worst thing film dialogs unexperienced naive direct there time movie i felt like directors exit movie first feature actually never really ask story wanna tell i meet ben one directors several occasion nice thoughtful guy make director i think american history x full clich somehow manage transport story oi warn full clich tell anything new provocative sad thing movie far oi reality br br if wanna see weird great german film watch movies michael haneke christoph schlingensief oskar roehler hans weingartner oliver hirschbiegel br br benny video funny game die unber hrbare mein letzter film das experiment das weisse rauschen muxm uschenstill br br ten topic photography\n",
      "\n",
      "another detail work subject dr dwivedi take us back time pre partioned panjab dr dwivedi choose difficult subject movie debut he work meticulous detail bring story life the treatment subject delicate br br even though region time set costume look real unlike movies make partition one focus gory detail violence attract audience effect the character come life priyanshu chatterjee give impressive performance manoj bajpai act heart show plight guilt ride man the rest cast do good job\n",
      "\n",
      "the cat o nine tail il gatto nove code br br aspect ratio 2 35 1 cromoscope br br sound format mono br br 35mm 70mm release print br br a blind ex journalist karl malden overhear blackmail plot outside genetics research laboratory later team fellow reporter jam franciscus investigate series murder lab unwittingly place love ones mercy psychopathic killer br br rush production follow unexpected worldwide success directorial debut the bird with the crystal plumage 1969 dario argento conceive the cat o nine tail giallo thriller much vein forerunner toplining celebrate hollywood actor karl malden fresh appearance patton 1969 rise star franciscus the valley of gwangi sadly result film ads claim nine time suspenseful bird disappoint follow impeccably photograph stylishly execute plod aimless general consumption br br malden franciscus eminently watchable sympathetic roles cinematographer enrico menczer the dead be alive use wide cromoscope frame convey hi tech world argento dark hearted scenario unfold subplot involve euro starlet catherine spaak the libertine franciscus romantic interest amount little unnecessary pad highlight include unforgettable encounter black gloved assassin crowd railway station edit sleek assurance cult movie stalwart franco fraticelli nocturnal episode malden franciscus seek important clue inside moulder tomb fall prey killer devious machinations but despite flash brilliance film ramble aimlessly one scene next simmer gently without ever really come boil it surprise cat fail emulate runaway success bird release 1971 br br english version\n",
      "\n",
      "like movie genre good gangster movies bad gangster movies if ask name good gangster movie i dozens choose if ask name bad gangster movie probably first one pop mind one still sort depression disappointment week since i saw film first i promise last time that film the general unrelated 1926 silent film name this dry slow gangster epic raise question story easy follow filmmakers choose make rather flimsy endeavor br br like goodfellas 1990 american gangster 2007 two superior mob movies the general base real people true events the film revolve around irish criminal name martin cahill brendan gleeson start long chain crimes steal food teenager move rob museums house adult meanwhile police lead inspector name kenny jon voight try desperately vigorously prove one crimes convict kill br br perhaps film category marvelous goodfellas 1990 first two godfather film i expect much the general but may go easy this would bad film i see aforementioned masterpieces swamp boredom oater far stretch run time scream bad scenes let start knock film look style present for reason director john boorman cinematographer seamus deasy select film movie black white style presentation clearly elements belong full fledge color film now i nothing b w picture even ones make modern day time schindler list 1993 ninety percent film black white masterpiece the general make five years schindler list the cinematography also far blow high light key seem distract give movie video game like quality i find simply annoy the filmmakers obviously go realist documentary like style like schindler list fail make seem much like documentary time much like classic style motion picture performances film range passable poor brendan gleeson jon voight give decent enthusiasm roles seem time even get kind run awful screenplay quote the sound design also primitive probably attempt give 40s crime noir appeal also fail make much like contemporary picture seem vastly place br br but worst thing occur one one character film i felt emotions opinions in fact every moment every scene think go head okay moments better film might come across shock appal dull time consume i sympathize hate brendan gleeson character way cahill character write simply flat dull gleeson play common criminal strike impact real martin cahill obviously if character kill always gangster film feel nothing no remorse relief surprise nothing we say and i entire run time flimsy poorly make crime film\n",
      "\n",
      "i watch mom like br br what hell we get i may wrong chair something death woman father that movie terrible this movie love good suspense movie bad suspense movie shake cane movie i never see and i big fan lifetime movies they kinda need quit try make movies outta book it drive crazy br br and whit butt ugly yet love hugh tiny bite nicer look br br my rat 1 10\n",
      "\n"
     ]
    }
   ],
   "source": [
    "for i in range(5):\n",
    "    print(df['review'][i])\n",
    "    print()"
   ]
  },
  {
   "cell_type": "markdown",
   "id": "1f614731",
   "metadata": {},
   "source": [
    "### Split the data into input(X) and target(Y) variable"
   ]
  },
  {
   "cell_type": "code",
   "execution_count": 19,
   "id": "88d1e205",
   "metadata": {},
   "outputs": [],
   "source": [
    "x = df['review']\n",
    "y = df['sentiment']"
   ]
  },
  {
   "cell_type": "markdown",
   "id": "e2292ced",
   "metadata": {},
   "source": [
    "### Create text tokenizer object with 5000 max words"
   ]
  },
  {
   "cell_type": "code",
   "execution_count": 20,
   "id": "4613f213",
   "metadata": {},
   "outputs": [],
   "source": [
    "from tensorflow.keras.preprocessing.text import Tokenizer\n",
    "from keras.preprocessing.sequence import pad_sequences"
   ]
  },
  {
   "cell_type": "markdown",
   "id": "7274ca11",
   "metadata": {},
   "source": [
    "#Convert text to sequence\n",
    "#Add padding"
   ]
  },
  {
   "cell_type": "code",
   "execution_count": 21,
   "id": "a29b020b",
   "metadata": {},
   "outputs": [],
   "source": [
    "tokenizer = Tokenizer(num_words=5000)"
   ]
  },
  {
   "cell_type": "markdown",
   "id": "2f02a687",
   "metadata": {},
   "source": [
    "### Split the data into training and testing set"
   ]
  },
  {
   "cell_type": "code",
   "execution_count": 22,
   "id": "720c4915",
   "metadata": {},
   "outputs": [],
   "source": [
    "x_train,x_test,y_train,y_test=train_test_split(x,y,test_size=0.2)"
   ]
  },
  {
   "cell_type": "markdown",
   "id": "c9d135a6",
   "metadata": {},
   "source": [
    "### Create Keras sequential model with LSTM layers"
   ]
  },
  {
   "cell_type": "code",
   "execution_count": 23,
   "id": "cfb7fa00",
   "metadata": {},
   "outputs": [],
   "source": [
    "tokenizer.fit_on_texts(x_train)"
   ]
  },
  {
   "cell_type": "code",
   "execution_count": 24,
   "id": "bc05f126",
   "metadata": {},
   "outputs": [],
   "source": [
    "vocab_size = len(tokenizer.word_index)+1"
   ]
  },
  {
   "cell_type": "code",
   "execution_count": 25,
   "id": "39fd49f4",
   "metadata": {},
   "outputs": [],
   "source": [
    "def text_encoding(txt):\n",
    "    # texts_to_sequences Transforms each text in texts to a sequence of integers.\n",
    "    encoded_docs = tokenizer.texts_to_sequences(txt)\n",
    "    \n",
    "    # pad_sequences is used to ensure that all sequences in a list have the same length.\n",
    "    padded_sequence = pad_sequences(encoded_docs, maxlen=128)    \n",
    "       \n",
    "    return padded_sequence"
   ]
  },
  {
   "cell_type": "code",
   "execution_count": 26,
   "id": "dcabe739",
   "metadata": {},
   "outputs": [],
   "source": [
    "x_train = text_encoding(x_train)\n",
    "x_test = text_encoding(x_test)"
   ]
  },
  {
   "cell_type": "code",
   "execution_count": 27,
   "id": "3090a55a",
   "metadata": {},
   "outputs": [],
   "source": [
    "from keras import Sequential\n",
    "from keras import layers"
   ]
  },
  {
   "cell_type": "code",
   "execution_count": 28,
   "id": "ca4aab43",
   "metadata": {},
   "outputs": [],
   "source": [
    "model=Sequential([\n",
    "    layers.Embedding(vocab_size,128),\n",
    "    layers.LSTM(128,return_sequences=True),\n",
    "    layers.Dropout(0.02),\n",
    "    layers.LSTM(128),\n",
    "    layers.Dropout(0.02),\n",
    "    layers.Flatten(),\n",
    "    layers.Dense(64,activation='relu'),\n",
    "    layers.Dropout(0.02),\n",
    "    layers.Dense(1,activation='sigmoid')\n",
    "])"
   ]
  },
  {
   "cell_type": "markdown",
   "id": "071e445c",
   "metadata": {},
   "source": [
    "### Compile the model"
   ]
  },
  {
   "cell_type": "code",
   "execution_count": 30,
   "id": "dbf2f134",
   "metadata": {},
   "outputs": [],
   "source": [
    "model.compile(loss = 'binary_crossentropy', optimizer = 'adam', metrics =[\"accuracy\"])"
   ]
  },
  {
   "cell_type": "markdown",
   "id": "70a5d3ea",
   "metadata": {},
   "source": [
    "### Train the model with our training set"
   ]
  },
  {
   "cell_type": "code",
   "execution_count": 31,
   "id": "1da06558",
   "metadata": {},
   "outputs": [
    {
     "name": "stdout",
     "output_type": "stream",
     "text": [
      "Epoch 1/10\n",
      "\u001b[1m200/200\u001b[0m \u001b[32m━━━━━━━━━━━━━━━━━━━━\u001b[0m\u001b[37m\u001b[0m \u001b[1m30s\u001b[0m 135ms/step - accuracy: 0.6556 - loss: 0.5834 - val_accuracy: 0.8506 - val_loss: 0.3567\n",
      "Epoch 2/10\n",
      "\u001b[1m200/200\u001b[0m \u001b[32m━━━━━━━━━━━━━━━━━━━━\u001b[0m\u001b[37m\u001b[0m \u001b[1m26s\u001b[0m 130ms/step - accuracy: 0.9036 - loss: 0.2452 - val_accuracy: 0.8650 - val_loss: 0.3237\n",
      "Epoch 3/10\n",
      "\u001b[1m200/200\u001b[0m \u001b[32m━━━━━━━━━━━━━━━━━━━━\u001b[0m\u001b[37m\u001b[0m \u001b[1m26s\u001b[0m 130ms/step - accuracy: 0.9454 - loss: 0.1500 - val_accuracy: 0.8444 - val_loss: 0.4595\n",
      "Epoch 4/10\n",
      "\u001b[1m200/200\u001b[0m \u001b[32m━━━━━━━━━━━━━━━━━━━━\u001b[0m\u001b[37m\u001b[0m \u001b[1m26s\u001b[0m 130ms/step - accuracy: 0.9724 - loss: 0.0763 - val_accuracy: 0.8438 - val_loss: 0.5025\n",
      "Epoch 5/10\n",
      "\u001b[1m200/200\u001b[0m \u001b[32m━━━━━━━━━━━━━━━━━━━━\u001b[0m\u001b[37m\u001b[0m \u001b[1m25s\u001b[0m 124ms/step - accuracy: 0.9852 - loss: 0.0442 - val_accuracy: 0.8369 - val_loss: 0.7577\n",
      "Epoch 6/10\n",
      "\u001b[1m200/200\u001b[0m \u001b[32m━━━━━━━━━━━━━━━━━━━━\u001b[0m\u001b[37m\u001b[0m \u001b[1m25s\u001b[0m 127ms/step - accuracy: 0.9858 - loss: 0.0447 - val_accuracy: 0.8344 - val_loss: 0.6642\n",
      "Epoch 7/10\n",
      "\u001b[1m200/200\u001b[0m \u001b[32m━━━━━━━━━━━━━━━━━━━━\u001b[0m\u001b[37m\u001b[0m \u001b[1m27s\u001b[0m 133ms/step - accuracy: 0.9899 - loss: 0.0321 - val_accuracy: 0.8325 - val_loss: 0.6202\n",
      "Epoch 8/10\n",
      "\u001b[1m200/200\u001b[0m \u001b[32m━━━━━━━━━━━━━━━━━━━━\u001b[0m\u001b[37m\u001b[0m \u001b[1m26s\u001b[0m 131ms/step - accuracy: 0.9902 - loss: 0.0293 - val_accuracy: 0.8413 - val_loss: 0.7536\n",
      "Epoch 9/10\n",
      "\u001b[1m200/200\u001b[0m \u001b[32m━━━━━━━━━━━━━━━━━━━━\u001b[0m\u001b[37m\u001b[0m \u001b[1m26s\u001b[0m 131ms/step - accuracy: 0.9962 - loss: 0.0104 - val_accuracy: 0.8350 - val_loss: 0.9717\n",
      "Epoch 10/10\n",
      "\u001b[1m200/200\u001b[0m \u001b[32m━━━━━━━━━━━━━━━━━━━━\u001b[0m\u001b[37m\u001b[0m \u001b[1m27s\u001b[0m 133ms/step - accuracy: 0.9986 - loss: 0.0032 - val_accuracy: 0.8413 - val_loss: 1.1113\n"
     ]
    },
    {
     "data": {
      "text/plain": [
       "<keras.src.callbacks.history.History at 0x20fa107efd0>"
      ]
     },
     "execution_count": 31,
     "metadata": {},
     "output_type": "execute_result"
    }
   ],
   "source": [
    "model.fit(x_train,y_train,epochs=10, validation_split=0.2)"
   ]
  },
  {
   "cell_type": "markdown",
   "id": "6b4ba237",
   "metadata": {},
   "source": [
    "### Make prediction with x_test"
   ]
  },
  {
   "cell_type": "code",
   "execution_count": 32,
   "id": "eefae311",
   "metadata": {},
   "outputs": [
    {
     "name": "stdout",
     "output_type": "stream",
     "text": [
      "\u001b[1m63/63\u001b[0m \u001b[32m━━━━━━━━━━━━━━━━━━━━\u001b[0m\u001b[37m\u001b[0m \u001b[1m3s\u001b[0m 37ms/step\n"
     ]
    }
   ],
   "source": [
    "y_pred = model.predict(x_test)"
   ]
  },
  {
   "cell_type": "code",
   "execution_count": 33,
   "id": "1b476a4f",
   "metadata": {},
   "outputs": [
    {
     "data": {
      "text/plain": [
       "array([0.00121946], dtype=float32)"
      ]
     },
     "execution_count": 33,
     "metadata": {},
     "output_type": "execute_result"
    }
   ],
   "source": [
    "y_pred[0]"
   ]
  },
  {
   "cell_type": "markdown",
   "id": "54884bf3",
   "metadata": {},
   "source": [
    "### Convert to 0 and 1 with higher probability towards 1"
   ]
  },
  {
   "cell_type": "code",
   "execution_count": 34,
   "id": "e4b1b0ae",
   "metadata": {},
   "outputs": [],
   "source": [
    "pred = []\n",
    "for i in y_pred:\n",
    "    if i>0.5:\n",
    "        pred.append(1)\n",
    "    else:\n",
    "        pred.append(0)"
   ]
  },
  {
   "cell_type": "markdown",
   "id": "5582bd5b",
   "metadata": {},
   "source": [
    "### Evaluate the model"
   ]
  },
  {
   "cell_type": "code",
   "execution_count": 35,
   "id": "44cdb6f4",
   "metadata": {},
   "outputs": [
    {
     "name": "stdout",
     "output_type": "stream",
     "text": [
      "\u001b[1m250/250\u001b[0m \u001b[32m━━━━━━━━━━━━━━━━━━━━\u001b[0m\u001b[37m\u001b[0m \u001b[1m8s\u001b[0m 32ms/step - accuracy: 0.9965 - loss: 0.0253\n"
     ]
    },
    {
     "data": {
      "text/plain": [
       "[0.22299499809741974, 0.9681249856948853]"
      ]
     },
     "execution_count": 35,
     "metadata": {},
     "output_type": "execute_result"
    }
   ],
   "source": [
    "model.evaluate(x_train,y_train)"
   ]
  },
  {
   "cell_type": "markdown",
   "id": "ded59f1a",
   "metadata": {},
   "source": [
    "### Check the accuarcy score"
   ]
  },
  {
   "cell_type": "code",
   "execution_count": 36,
   "id": "40c772a9",
   "metadata": {},
   "outputs": [],
   "source": [
    "from sklearn.metrics import accuracy_score, classification_report, confusion_matrix"
   ]
  },
  {
   "cell_type": "code",
   "execution_count": 37,
   "id": "c890025f",
   "metadata": {},
   "outputs": [
    {
     "data": {
      "text/plain": [
       "0.837"
      ]
     },
     "execution_count": 37,
     "metadata": {},
     "output_type": "execute_result"
    }
   ],
   "source": [
    "accuracy_score(y_test,pred)"
   ]
  },
  {
   "cell_type": "markdown",
   "id": "741724e9",
   "metadata": {},
   "source": [
    "### Check the confusion matrix"
   ]
  },
  {
   "cell_type": "code",
   "execution_count": 38,
   "id": "005dbdd5",
   "metadata": {},
   "outputs": [
    {
     "data": {
      "text/plain": [
       "<Axes: >"
      ]
     },
     "execution_count": 38,
     "metadata": {},
     "output_type": "execute_result"
    },
    {
     "data": {
      "image/png": "[encoded data removed]",
      "text/plain": [
       "<Figure size 640x480 with 2 Axes>"
      ]
     },
     "metadata": {},
     "output_type": "display_data"
    }
   ],
   "source": [
    "sns.heatmap(confusion_matrix(y_test,pred),annot=True,fmt='d')"
   ]
  },
  {
   "cell_type": "markdown",
   "id": "dcc2bdf3",
   "metadata": {},
   "source": [
    "***"
   ]
  }
 ],
 "metadata": {
  "kernelspec": {
   "display_name": "Python 3 (ipykernel)",
   "language": "python",
   "name": "python3"
  },
  "language_info": {
   "codemirror_mode": {
    "name": "ipython",
    "version": 3
   },
   "file_extension": ".py",
   "mimetype": "text/x-python",
   "name": "python",
   "nbconvert_exporter": "python",
   "pygments_lexer": "ipython3",
   "version": "3.11.5"
  }
 },
 "nbformat": 4,
 "nbformat_minor": 5
}
