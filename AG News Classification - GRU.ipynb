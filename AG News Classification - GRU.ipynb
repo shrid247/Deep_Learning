{
 "cells": [
  {
   "cell_type": "markdown",
   "id": "e854f950",
   "metadata": {},
   "source": [
    "### AG News Classification"
   ]
  },
  {
   "cell_type": "markdown",
   "id": "d6891116",
   "metadata": {},
   "source": [
    "***"
   ]
  },
  {
   "cell_type": "markdown",
   "id": "09953704",
   "metadata": {},
   "source": [
    "ORIGIN\n",
    "\n",
    "AG is a collection of more than 1 million news articles. News articles have been gathered from more than 2000 news sources by ComeToMyHead in more than 1 year of activity. ComeToMyHead is an academic news search engine which has been running since July, 2004. The dataset is provided by the academic comunity for research purposes in data mining (clustering, classification, etc), information retrieval (ranking, search, etc), xml, data compression, data streaming, and any other non-commercial activity. For more information, please refer to the link http://www.di.unipi.it/~gulli/AG_corpus_of_news_articles.html .\n",
    "\n",
    "DESCRIPTION\n",
    "\n",
    "The AG's news topic classification dataset is constructed by choosing 4 largest classes from the original corpus. Each class contains 30,000 training samples and 1,900 testing samples. The total number of training samples is 120,000 and testing 7,600.\n",
    "\n",
    "The file classes.txt contains a list of classes corresponding to each label.\n",
    "\n",
    "The files train.csv and test.csv contain all the training samples as comma-sparated values. There are 3 columns in them, corresponding to class index (1 to 4), title and description. The title and description are escaped using double quotes (\"), and any internal double quote is escaped by 2 double quotes (\"\"). New lines are escaped by a backslash followed with an \"n\" character, that is \"\\n\"."
   ]
  },
  {
   "cell_type": "markdown",
   "id": "c0cef672",
   "metadata": {},
   "source": [
    "You can download the dataset from <a href = \"https://www.kaggle.com/datasets/amananandrai/ag-news-classification-dataset\">Here</a>"
   ]
  },
  {
   "cell_type": "markdown",
   "id": "cd37d48c",
   "metadata": {},
   "source": [
    "### Import Necessary Libraries"
   ]
  },
  {
   "cell_type": "code",
   "execution_count": 72,
   "id": "e1d257aa",
   "metadata": {},
   "outputs": [],
   "source": [
    "import numpy as np\n",
    "import pandas as pd\n",
    "import matplotlib.pyplot as plt\n",
    "import seaborn as sns\n",
    "from sklearn.model_selection import train_test_split\n",
    "import re\n",
    "from nltk.corpus import stopwords\n",
    "from nltk.stem import WordNetLemmatizer\n",
    "from sklearn.preprocessing import LabelBinarizer\n",
    "from keras.preprocessing.text import Tokenizer\n",
    "from tensorflow.keras.preprocessing.sequence import pad_sequences\n",
    "from keras import Sequential\n",
    "from keras import layers\n",
    "from sklearn.metrics import confusion_matrix, classification_report, accuracy_score"
   ]
  },
  {
   "cell_type": "markdown",
   "id": "34499970",
   "metadata": {},
   "source": [
    "### Read the dataset"
   ]
  },
  {
   "cell_type": "code",
   "execution_count": 25,
   "id": "4688d1d8",
   "metadata": {},
   "outputs": [],
   "source": [
    "df = pd.read_csv('agnews.csv')"
   ]
  },
  {
   "cell_type": "markdown",
   "id": "d3df4c78",
   "metadata": {},
   "source": [
    "### Save only a portion of the dataset"
   ]
  },
  {
   "cell_type": "code",
   "execution_count": 34,
   "id": "bc751e88",
   "metadata": {},
   "outputs": [],
   "source": [
    "df = df[0:20000]"
   ]
  },
  {
   "cell_type": "code",
   "execution_count": 26,
   "id": "1668be7f",
   "metadata": {},
   "outputs": [
    {
     "data": {
      "text/html": [
       "<div>\n",
       "<style scoped>\n",
       "    .dataframe tbody tr th:only-of-type {\n",
       "        vertical-align: middle;\n",
       "    }\n",
       "\n",
       "    .dataframe tbody tr th {\n",
       "        vertical-align: top;\n",
       "    }\n",
       "\n",
       "    .dataframe thead th {\n",
       "        text-align: right;\n",
       "    }\n",
       "</style>\n",
       "<table border=\"1\" class=\"dataframe\">\n",
       "  <thead>\n",
       "    <tr style=\"text-align: right;\">\n",
       "      <th></th>\n",
       "      <th>Class Index</th>\n",
       "      <th>Title</th>\n",
       "      <th>Description</th>\n",
       "    </tr>\n",
       "  </thead>\n",
       "  <tbody>\n",
       "    <tr>\n",
       "      <th>0</th>\n",
       "      <td>3</td>\n",
       "      <td>Wall St. Bears Claw Back Into the Black (Reuters)</td>\n",
       "      <td>Reuters - Short-sellers, Wall Street's dwindli...</td>\n",
       "    </tr>\n",
       "    <tr>\n",
       "      <th>1</th>\n",
       "      <td>3</td>\n",
       "      <td>Carlyle Looks Toward Commercial Aerospace (Reu...</td>\n",
       "      <td>Reuters - Private investment firm Carlyle Grou...</td>\n",
       "    </tr>\n",
       "    <tr>\n",
       "      <th>2</th>\n",
       "      <td>3</td>\n",
       "      <td>Oil and Economy Cloud Stocks' Outlook (Reuters)</td>\n",
       "      <td>Reuters - Soaring crude prices plus worries\\ab...</td>\n",
       "    </tr>\n",
       "    <tr>\n",
       "      <th>3</th>\n",
       "      <td>3</td>\n",
       "      <td>Iraq Halts Oil Exports from Main Southern Pipe...</td>\n",
       "      <td>Reuters - Authorities have halted oil export\\f...</td>\n",
       "    </tr>\n",
       "    <tr>\n",
       "      <th>4</th>\n",
       "      <td>3</td>\n",
       "      <td>Oil prices soar to all-time record, posing new...</td>\n",
       "      <td>AFP - Tearaway world oil prices, toppling reco...</td>\n",
       "    </tr>\n",
       "  </tbody>\n",
       "</table>\n",
       "</div>"
      ],
      "text/plain": [
       "   Class Index                                              Title  \\\n",
       "0            3  Wall St. Bears Claw Back Into the Black (Reuters)   \n",
       "1            3  Carlyle Looks Toward Commercial Aerospace (Reu...   \n",
       "2            3    Oil and Economy Cloud Stocks' Outlook (Reuters)   \n",
       "3            3  Iraq Halts Oil Exports from Main Southern Pipe...   \n",
       "4            3  Oil prices soar to all-time record, posing new...   \n",
       "\n",
       "                                         Description  \n",
       "0  Reuters - Short-sellers, Wall Street's dwindli...  \n",
       "1  Reuters - Private investment firm Carlyle Grou...  \n",
       "2  Reuters - Soaring crude prices plus worries\\ab...  \n",
       "3  Reuters - Authorities have halted oil export\\f...  \n",
       "4  AFP - Tearaway world oil prices, toppling reco...  "
      ]
     },
     "execution_count": 26,
     "metadata": {},
     "output_type": "execute_result"
    }
   ],
   "source": [
    "df.head()"
   ]
  },
  {
   "cell_type": "markdown",
   "id": "6a571088",
   "metadata": {},
   "source": [
    "### Shuffle the dataset"
   ]
  },
  {
   "cell_type": "code",
   "execution_count": 27,
   "id": "b02ebaa0",
   "metadata": {},
   "outputs": [],
   "source": [
    "df = df.sample(frac = 1)"
   ]
  },
  {
   "cell_type": "code",
   "execution_count": 28,
   "id": "26cd3c9c",
   "metadata": {},
   "outputs": [],
   "source": [
    "df.reset_index(drop = True, inplace = True)"
   ]
  },
  {
   "cell_type": "code",
   "execution_count": 29,
   "id": "83af1f7b",
   "metadata": {},
   "outputs": [
    {
     "name": "stdout",
     "output_type": "stream",
     "text": [
      "ABIDJAN, Ivory Coast - Ivory Coast forces will immediately pull back from front lines, the presidential spokesman said Sunday, after a day of clashes with French peacekeepers that left the West African nation #39;s air force in shreds. - 1\n",
      "\n",
      "Los Angeles  Reuters News Service, 19 November 2004 - A generation of children grew up playing Nintendo #39;s Game Boy handheld video game system, and now that they have grown up, Nintendo has a new toy for them. - 4\n",
      "\n",
      "Today researchers announced the discovery of a new species of ancient reptile. The 230-million-year-old remains of the long-necked, aquatic predator were found in China. - 4\n",
      "\n",
      "(AP) PASADENA, Calif. (AP)  The Mars rover Spirit has developed a problem with one of its six wheels, but NASA officials said Tuesday they believe the robot geologist can continue working.  - 4\n",
      "\n",
      "To modernize its venerable line of mainframe-based CICS middleware, IBM last week introduced an updated version of its CICS Transaction Server that enables IT to extend the product to work better with SOAs (service-oriented architectures) through Web services. With the release of CICS Transaction Server for z/OS Version 3.1, administrators can now integrate their traditional workloads to fully participate in an SOA. - 4\n",
      "\n",
      "Youth was served in a big way for the Cardinals at Miller Park on Thursday afternoon. Rookies Yadier Molina and Hector Luna combined for six hits and all four RBIs as St. - 2\n",
      "\n",
      "Juventus came back from an early deficit to beat Lazio 2-1 Sunday and restore its four-point lead in the Italian league. By Paco Serinelli, AFP. - 2\n",
      "\n",
      "Australian Gas Light Company has flagged the sale of its stake in New Zealand #39;s NGC Holdings, after the Australian energy retailer today reported an 18. - 3\n",
      "\n",
      "IT has been touted as the biggest game of the season so far when some of the Actim Index #39;s star performers lock horns as Arsenal host leaders Chelsea at Highbury tomorrow. - 2\n",
      "\n",
      "Home in Panama following a terrifying accident that left two of his family members dead, Yankees star closer Mariano Rivera was absent from the club's early-afternoon workout at Yankee Stadium yesterday. - 2\n",
      "\n"
     ]
    }
   ],
   "source": [
    "for i in range(10):\n",
    "    print(df['Description'][i],'-', df['Class Index'][i])\n",
    "    print()"
   ]
  },
  {
   "cell_type": "markdown",
   "id": "c8f9e71b",
   "metadata": {},
   "source": [
    "### Check Info"
   ]
  },
  {
   "cell_type": "code",
   "execution_count": 30,
   "id": "10afca43",
   "metadata": {},
   "outputs": [
    {
     "name": "stdout",
     "output_type": "stream",
     "text": [
      "<class 'pandas.core.frame.DataFrame'>\n",
      "RangeIndex: 120000 entries, 0 to 119999\n",
      "Data columns (total 3 columns):\n",
      " #   Column       Non-Null Count   Dtype \n",
      "---  ------       --------------   ----- \n",
      " 0   Class Index  120000 non-null  int64 \n",
      " 1   Title        120000 non-null  object\n",
      " 2   Description  120000 non-null  object\n",
      "dtypes: int64(1), object(2)\n",
      "memory usage: 2.7+ MB\n"
     ]
    }
   ],
   "source": [
    "df.info()"
   ]
  },
  {
   "cell_type": "markdown",
   "id": "f0266be4",
   "metadata": {},
   "source": [
    "### View basic statistical information about the dataset"
   ]
  },
  {
   "cell_type": "code",
   "execution_count": 70,
   "id": "0eb894b6",
   "metadata": {},
   "outputs": [
    {
     "data": {
      "text/html": [
       "<div>\n",
       "<style scoped>\n",
       "    .dataframe tbody tr th:only-of-type {\n",
       "        vertical-align: middle;\n",
       "    }\n",
       "\n",
       "    .dataframe tbody tr th {\n",
       "        vertical-align: top;\n",
       "    }\n",
       "\n",
       "    .dataframe thead th {\n",
       "        text-align: right;\n",
       "    }\n",
       "</style>\n",
       "<table border=\"1\" class=\"dataframe\">\n",
       "  <thead>\n",
       "    <tr style=\"text-align: right;\">\n",
       "      <th></th>\n",
       "      <th>Class Index</th>\n",
       "      <th>Title</th>\n",
       "      <th>Description</th>\n",
       "    </tr>\n",
       "  </thead>\n",
       "  <tbody>\n",
       "    <tr>\n",
       "      <th>count</th>\n",
       "      <td>20000.000000</td>\n",
       "      <td>20000</td>\n",
       "      <td>20000</td>\n",
       "    </tr>\n",
       "    <tr>\n",
       "      <th>unique</th>\n",
       "      <td>NaN</td>\n",
       "      <td>19786</td>\n",
       "      <td>19944</td>\n",
       "    </tr>\n",
       "    <tr>\n",
       "      <th>top</th>\n",
       "      <td>NaN</td>\n",
       "      <td>SI.com</td>\n",
       "      <td>most it managers 39 question importance securi...</td>\n",
       "    </tr>\n",
       "    <tr>\n",
       "      <th>freq</th>\n",
       "      <td>NaN</td>\n",
       "      <td>12</td>\n",
       "      <td>3</td>\n",
       "    </tr>\n",
       "    <tr>\n",
       "      <th>mean</th>\n",
       "      <td>2.504200</td>\n",
       "      <td>NaN</td>\n",
       "      <td>NaN</td>\n",
       "    </tr>\n",
       "    <tr>\n",
       "      <th>std</th>\n",
       "      <td>1.116129</td>\n",
       "      <td>NaN</td>\n",
       "      <td>NaN</td>\n",
       "    </tr>\n",
       "    <tr>\n",
       "      <th>min</th>\n",
       "      <td>1.000000</td>\n",
       "      <td>NaN</td>\n",
       "      <td>NaN</td>\n",
       "    </tr>\n",
       "    <tr>\n",
       "      <th>25%</th>\n",
       "      <td>2.000000</td>\n",
       "      <td>NaN</td>\n",
       "      <td>NaN</td>\n",
       "    </tr>\n",
       "    <tr>\n",
       "      <th>50%</th>\n",
       "      <td>3.000000</td>\n",
       "      <td>NaN</td>\n",
       "      <td>NaN</td>\n",
       "    </tr>\n",
       "    <tr>\n",
       "      <th>75%</th>\n",
       "      <td>3.000000</td>\n",
       "      <td>NaN</td>\n",
       "      <td>NaN</td>\n",
       "    </tr>\n",
       "    <tr>\n",
       "      <th>max</th>\n",
       "      <td>4.000000</td>\n",
       "      <td>NaN</td>\n",
       "      <td>NaN</td>\n",
       "    </tr>\n",
       "  </tbody>\n",
       "</table>\n",
       "</div>"
      ],
      "text/plain": [
       "         Class Index   Title  \\\n",
       "count   20000.000000   20000   \n",
       "unique           NaN   19786   \n",
       "top              NaN  SI.com   \n",
       "freq             NaN      12   \n",
       "mean        2.504200     NaN   \n",
       "std         1.116129     NaN   \n",
       "min         1.000000     NaN   \n",
       "25%         2.000000     NaN   \n",
       "50%         3.000000     NaN   \n",
       "75%         3.000000     NaN   \n",
       "max         4.000000     NaN   \n",
       "\n",
       "                                              Description  \n",
       "count                                               20000  \n",
       "unique                                              19944  \n",
       "top     most it managers 39 question importance securi...  \n",
       "freq                                                    3  \n",
       "mean                                                  NaN  \n",
       "std                                                   NaN  \n",
       "min                                                   NaN  \n",
       "25%                                                   NaN  \n",
       "50%                                                   NaN  \n",
       "75%                                                   NaN  \n",
       "max                                                   NaN  "
      ]
     },
     "execution_count": 70,
     "metadata": {},
     "output_type": "execute_result"
    }
   ],
   "source": [
    "df.describe(include = 'all')"
   ]
  },
  {
   "cell_type": "markdown",
   "id": "fece4e65",
   "metadata": {},
   "source": [
    "### Check for missing values"
   ]
  },
  {
   "cell_type": "code",
   "execution_count": 32,
   "id": "35e28d38",
   "metadata": {},
   "outputs": [
    {
     "data": {
      "text/plain": [
       "Class Index    0\n",
       "Title          0\n",
       "Description    0\n",
       "dtype: int64"
      ]
     },
     "execution_count": 32,
     "metadata": {},
     "output_type": "execute_result"
    }
   ],
   "source": [
    "df.isna().sum()"
   ]
  },
  {
   "cell_type": "markdown",
   "id": "51c73a14",
   "metadata": {},
   "source": [
    "### Check for duplicates"
   ]
  },
  {
   "cell_type": "code",
   "execution_count": 33,
   "id": "95a55803",
   "metadata": {},
   "outputs": [
    {
     "data": {
      "text/plain": [
       "0"
      ]
     },
     "execution_count": 33,
     "metadata": {},
     "output_type": "execute_result"
    }
   ],
   "source": [
    "df.duplicated().sum()"
   ]
  },
  {
   "cell_type": "markdown",
   "id": "989da562",
   "metadata": {},
   "source": [
    "### Plot a countplot of the Class Index"
   ]
  },
  {
   "cell_type": "code",
   "execution_count": 35,
   "id": "33dfcc4c",
   "metadata": {},
   "outputs": [
    {
     "data": {
      "image/png": "[encoded data removed]",
      "text/plain": [
       "<Figure size 720x432 with 1 Axes>"
      ]
     },
     "metadata": {
      "needs_background": "light"
     },
     "output_type": "display_data"
    }
   ],
   "source": [
    "plt.figure(figsize = (10,6))\n",
    "sns.countplot(y = df['Class Index'])\n",
    "plt.show()"
   ]
  },
  {
   "cell_type": "markdown",
   "id": "238716f8",
   "metadata": {},
   "source": [
    "### Create a funciton to preprocess the text"
   ]
  },
  {
   "cell_type": "code",
   "execution_count": 37,
   "id": "2a914431",
   "metadata": {},
   "outputs": [],
   "source": [
    "def preprocess(sentence):\n",
    "    #removes all the special characters and split the sentence at spaces\n",
    "    text = re.sub(r\"[^a-zA-Z0-9]\",\" \",sentence).split()\n",
    "    \n",
    "    # converts words to lowercase and removes any stopwords\n",
    "    words = [x.lower() for x in text if x not in stopwords.words('english')]\n",
    "    \n",
    "    # Lemmatize the words\n",
    "    lemma = WordNetLemmatizer()\n",
    "    word = [lemma.lemmatize(word,'v') for word in words ]\n",
    "    \n",
    "    # convert the list of words back into a sentence\n",
    "    word = ' '.join(word)\n",
    "    return word"
   ]
  },
  {
   "cell_type": "markdown",
   "id": "e5482c35",
   "metadata": {},
   "source": [
    "### Apply the preprocess function to the description"
   ]
  },
  {
   "cell_type": "code",
   "execution_count": 38,
   "id": "757bd073",
   "metadata": {},
   "outputs": [],
   "source": [
    "df['Description'] = df['Description'].apply(preprocess)"
   ]
  },
  {
   "cell_type": "code",
   "execution_count": 39,
   "id": "bee0e846",
   "metadata": {},
   "outputs": [
    {
     "name": "stdout",
     "output_type": "stream",
     "text": [
      "abidjan ivory coast ivory coast force immediately pull back front line presidential spokesman say sunday day clash french peacekeepers leave west african nation 39 air force shred - 1\n",
      "\n",
      "los angeles reuters news service 19 november 2004 a generation children grow play nintendo 39 game boy handheld video game system grow nintendo new toy - 4\n",
      "\n",
      "today researchers announce discovery new species ancient reptile the 230 million year old remain long neck aquatic predator find china - 4\n",
      "\n",
      "ap pasadena calif ap the mar rover spirit develop problem one six wheel nasa officials say tuesday believe robot geologist continue work - 4\n",
      "\n",
      "to modernize venerable line mainframe base cics middleware ibm last week introduce update version cics transaction server enable it extend product work better soas service orient architectures web service with release cics transaction server z os version 3 1 administrators integrate traditional workloads fully participate soa - 4\n",
      "\n",
      "youth serve big way cardinals miller park thursday afternoon rookies yadier molina hector luna combine six hit four rbis st - 2\n",
      "\n",
      "juventus come back early deficit beat lazio 2 1 sunday restore four point lead italian league by paco serinelli afp - 2\n",
      "\n",
      "australian gas light company flag sale stake new zealand 39 ngc hold australian energy retailer today report 18 - 3\n",
      "\n",
      "it tout biggest game season far actim index 39 star performers lock horn arsenal host leaders chelsea highbury tomorrow - 2\n",
      "\n",
      "home panama follow terrify accident leave two family members dead yankees star closer mariano rivera absent club early afternoon workout yankee stadium yesterday - 2\n",
      "\n"
     ]
    }
   ],
   "source": [
    "for i in range(10):\n",
    "    print(df['Description'][i],'-', df['Class Index'][i])\n",
    "    print()"
   ]
  },
  {
   "cell_type": "markdown",
   "id": "7f5cd81f",
   "metadata": {},
   "source": [
    "### Split Input & Target Variables"
   ]
  },
  {
   "cell_type": "code",
   "execution_count": 40,
   "id": "36b06902",
   "metadata": {},
   "outputs": [],
   "source": [
    "X = df['Description']\n",
    "y = df['Class Index']"
   ]
  },
  {
   "cell_type": "markdown",
   "id": "9fd47542",
   "metadata": {},
   "source": [
    "### One Hot encode our Target Variable"
   ]
  },
  {
   "cell_type": "code",
   "execution_count": 42,
   "id": "ca1e920a",
   "metadata": {},
   "outputs": [],
   "source": [
    "encoder = LabelBinarizer()\n",
    "y = encoder.fit_transform(y)"
   ]
  },
  {
   "cell_type": "code",
   "execution_count": 43,
   "id": "9130e2df",
   "metadata": {},
   "outputs": [
    {
     "data": {
      "text/plain": [
       "array([1, 2, 3, 4], dtype=int64)"
      ]
     },
     "execution_count": 43,
     "metadata": {},
     "output_type": "execute_result"
    }
   ],
   "source": [
    "labels = encoder.classes_\n",
    "labels"
   ]
  },
  {
   "cell_type": "markdown",
   "id": "ff702320",
   "metadata": {},
   "source": [
    "### Split the dataset into Training & Testing Set"
   ]
  },
  {
   "cell_type": "code",
   "execution_count": 44,
   "id": "5bb963f3",
   "metadata": {},
   "outputs": [],
   "source": [
    "X_train, X_test, y_train, y_test = train_test_split(X,y, test_size = 0.20)"
   ]
  },
  {
   "cell_type": "markdown",
   "id": "4899cdd8",
   "metadata": {},
   "source": [
    "### Create a keras Tokenizer object"
   ]
  },
  {
   "cell_type": "markdown",
   "id": "a8d31af9",
   "metadata": {},
   "source": [
    "In the Keras library, the Tokenizer is a class that can be used to preprocess text data. It allows you to convert a collection of text documents into a numerical representation that can be used as input to a machine learning model."
   ]
  },
  {
   "cell_type": "code",
   "execution_count": 47,
   "id": "148b6602",
   "metadata": {},
   "outputs": [],
   "source": [
    "tokenizer = Tokenizer(num_words=5000)"
   ]
  },
  {
   "cell_type": "markdown",
   "id": "0106d65f",
   "metadata": {},
   "source": [
    "### fit on text for our X"
   ]
  },
  {
   "cell_type": "code",
   "execution_count": 48,
   "id": "e4b0e299",
   "metadata": {},
   "outputs": [],
   "source": [
    "tokenizer.fit_on_texts(X)"
   ]
  },
  {
   "cell_type": "code",
   "execution_count": 49,
   "id": "ea63d23d",
   "metadata": {},
   "outputs": [],
   "source": [
    "vocab_size = len(tokenizer.word_index) + 1"
   ]
  },
  {
   "cell_type": "markdown",
   "id": "af876411",
   "metadata": {},
   "source": [
    "### Create a function to convert text to numerical representation and add padding"
   ]
  },
  {
   "cell_type": "code",
   "execution_count": 51,
   "id": "afd5a26e",
   "metadata": {},
   "outputs": [],
   "source": [
    "def text_encoding(txt):\n",
    "    # texts_to_sequences Transforms each text in texts to a sequence of integers.\n",
    "    encoded_docs = tokenizer.texts_to_sequences(txt)\n",
    "    \n",
    "    # pad_sequences is used to ensure that all sequences in a list have the same length.\n",
    "    padded_sequence = pad_sequences(encoded_docs, maxlen=128)    \n",
    "       \n",
    "    return padded_sequence"
   ]
  },
  {
   "cell_type": "markdown",
   "id": "24006817",
   "metadata": {},
   "source": [
    "### Apply the function to our X_train & X_test"
   ]
  },
  {
   "cell_type": "code",
   "execution_count": 52,
   "id": "6a95adf7",
   "metadata": {},
   "outputs": [],
   "source": [
    "X_train = text_encoding(X_train)\n",
    "X_test = text_encoding(X_test)"
   ]
  },
  {
   "cell_type": "markdown",
   "id": "191d1a9f",
   "metadata": {},
   "source": [
    "### Create keras Sequential model with GRU Layers"
   ]
  },
  {
   "cell_type": "code",
   "execution_count": 57,
   "id": "d31f505c",
   "metadata": {},
   "outputs": [],
   "source": [
    "model = Sequential()\n",
    "### Embedding layer\n",
    "model.add(layers.Embedding(vocab_size, 128))\n",
    "\n",
    "### GRU layer\n",
    "### return_sequences: Whether to return the last output in the output sequence, or the full sequence.\n",
    "model.add(layers.GRU(128,  return_sequences=True))\n",
    "model.add(layers.Dropout(0.2))\n",
    "model.add(layers.GRU(128))\n",
    "model.add(layers.Dense(64, activation = 'relu'))\n",
    "model.add(layers.Dropout(0.2))\n",
    "\n",
    "model.add(layers.Dense(4, activation='softmax'))"
   ]
  },
  {
   "cell_type": "code",
   "execution_count": 58,
   "id": "5dfb1007",
   "metadata": {},
   "outputs": [
    {
     "name": "stdout",
     "output_type": "stream",
     "text": [
      "Model: \"sequential_1\"\n",
      "_________________________________________________________________\n",
      " Layer (type)                Output Shape              Param #   \n",
      "=================================================================\n",
      " embedding_1 (Embedding)     (None, None, 128)         2965888   \n",
      "                                                                 \n",
      " gru_2 (GRU)                 (None, None, 128)         99072     \n",
      "                                                                 \n",
      " dropout_2 (Dropout)         (None, None, 128)         0         \n",
      "                                                                 \n",
      " gru_3 (GRU)                 (None, 128)               99072     \n",
      "                                                                 \n",
      " dense_2 (Dense)             (None, 64)                8256      \n",
      "                                                                 \n",
      " dropout_3 (Dropout)         (None, 64)                0         \n",
      "                                                                 \n",
      " dense_3 (Dense)             (None, 4)                 260       \n",
      "                                                                 \n",
      "=================================================================\n",
      "Total params: 3,172,548\n",
      "Trainable params: 3,172,548\n",
      "Non-trainable params: 0\n",
      "_________________________________________________________________\n"
     ]
    }
   ],
   "source": [
    "model.summary()"
   ]
  },
  {
   "cell_type": "markdown",
   "id": "c4597e5a",
   "metadata": {},
   "source": [
    "### Compile the model"
   ]
  },
  {
   "cell_type": "code",
   "execution_count": 59,
   "id": "c6cce8d0",
   "metadata": {},
   "outputs": [],
   "source": [
    "model.compile(loss = 'categorical_crossentropy', optimizer = 'adam', metrics = ['accuracy'])"
   ]
  },
  {
   "cell_type": "markdown",
   "id": "afb8b6a5",
   "metadata": {},
   "source": [
    "### Train the model with our Training Set"
   ]
  },
  {
   "cell_type": "code",
   "execution_count": 60,
   "id": "855364a0",
   "metadata": {},
   "outputs": [
    {
     "name": "stdout",
     "output_type": "stream",
     "text": [
      "Epoch 1/10\n",
      "400/400 [==============================] - 109s 243ms/step - loss: 0.6305 - accuracy: 0.7516 - val_loss: 0.3989 - val_accuracy: 0.8659\n",
      "Epoch 2/10\n",
      "400/400 [==============================] - 92s 229ms/step - loss: 0.2998 - accuracy: 0.8989 - val_loss: 0.3871 - val_accuracy: 0.8700\n",
      "Epoch 3/10\n",
      "400/400 [==============================] - 93s 233ms/step - loss: 0.2031 - accuracy: 0.9328 - val_loss: 0.4372 - val_accuracy: 0.8625\n",
      "Epoch 4/10\n",
      "400/400 [==============================] - 110s 276ms/step - loss: 0.1591 - accuracy: 0.9497 - val_loss: 0.4797 - val_accuracy: 0.8591\n",
      "Epoch 5/10\n",
      "400/400 [==============================] - 108s 270ms/step - loss: 0.1174 - accuracy: 0.9621 - val_loss: 0.5350 - val_accuracy: 0.8487\n",
      "Epoch 6/10\n",
      "400/400 [==============================] - 110s 276ms/step - loss: 0.0914 - accuracy: 0.9719 - val_loss: 0.6803 - val_accuracy: 0.8447\n",
      "Epoch 7/10\n",
      "400/400 [==============================] - 106s 266ms/step - loss: 0.0669 - accuracy: 0.9789 - val_loss: 0.7224 - val_accuracy: 0.8413\n",
      "Epoch 8/10\n",
      "400/400 [==============================] - 117s 292ms/step - loss: 0.0493 - accuracy: 0.9835 - val_loss: 0.8268 - val_accuracy: 0.8491\n",
      "Epoch 9/10\n",
      "400/400 [==============================] - 108s 271ms/step - loss: 0.0401 - accuracy: 0.9856 - val_loss: 0.9369 - val_accuracy: 0.8369\n",
      "Epoch 10/10\n",
      "400/400 [==============================] - 100s 250ms/step - loss: 0.0358 - accuracy: 0.9882 - val_loss: 0.9491 - val_accuracy: 0.8456\n"
     ]
    },
    {
     "data": {
      "text/plain": [
       "<keras.callbacks.History at 0x25b5faedb50>"
      ]
     },
     "execution_count": 60,
     "metadata": {},
     "output_type": "execute_result"
    }
   ],
   "source": [
    "model.fit(X_train, y_train, epochs=10, validation_split = 0.2)"
   ]
  },
  {
   "cell_type": "markdown",
   "id": "d70c5388",
   "metadata": {},
   "source": [
    "### Make predictions with Test set"
   ]
  },
  {
   "cell_type": "code",
   "execution_count": 61,
   "id": "402a9f17",
   "metadata": {},
   "outputs": [
    {
     "name": "stdout",
     "output_type": "stream",
     "text": [
      "125/125 [==============================] - 12s 55ms/step\n"
     ]
    }
   ],
   "source": [
    "y_pred = model.predict(X_test)"
   ]
  },
  {
   "cell_type": "code",
   "execution_count": 62,
   "id": "75decae9",
   "metadata": {},
   "outputs": [],
   "source": [
    "y_pred = [np.argmax(i) for i in y_pred]"
   ]
  },
  {
   "cell_type": "code",
   "execution_count": 63,
   "id": "108c7e00",
   "metadata": {},
   "outputs": [],
   "source": [
    "y_test = [np.argmax(i) for i in y_test]"
   ]
  },
  {
   "cell_type": "markdown",
   "id": "30229689",
   "metadata": {},
   "source": [
    "### Check accuracy score"
   ]
  },
  {
   "cell_type": "code",
   "execution_count": 65,
   "id": "6f9323a6",
   "metadata": {},
   "outputs": [
    {
     "data": {
      "text/plain": [
       "0.8405"
      ]
     },
     "execution_count": 65,
     "metadata": {},
     "output_type": "execute_result"
    }
   ],
   "source": [
    "accuracy_score(y_test, y_pred)"
   ]
  },
  {
   "cell_type": "markdown",
   "id": "5a39c920",
   "metadata": {},
   "source": [
    "### Confusion matrix"
   ]
  },
  {
   "cell_type": "code",
   "execution_count": 66,
   "id": "ceb3bd58",
   "metadata": {
    "scrolled": true
   },
   "outputs": [
    {
     "data": {
      "image/png": "[encoded data removed]",
      "text/plain": [
       "<Figure size 720x576 with 2 Axes>"
      ]
     },
     "metadata": {
      "needs_background": "light"
     },
     "output_type": "display_data"
    }
   ],
   "source": [
    "plt.figure(figsize = (10,8))\n",
    "sns.heatmap(confusion_matrix(y_test, y_pred), annot = True, fmt = 'd')\n",
    "plt.show()"
   ]
  },
  {
   "cell_type": "markdown",
   "id": "4e526365",
   "metadata": {},
   "source": [
    "### Classification Report"
   ]
  },
  {
   "cell_type": "code",
   "execution_count": 67,
   "id": "d16a8e33",
   "metadata": {},
   "outputs": [
    {
     "name": "stdout",
     "output_type": "stream",
     "text": [
      "              precision    recall  f1-score   support\n",
      "\n",
      "           0       0.82      0.88      0.85       996\n",
      "           1       0.92      0.94      0.93       997\n",
      "           2       0.83      0.74      0.78       997\n",
      "           3       0.79      0.80      0.80      1010\n",
      "\n",
      "    accuracy                           0.84      4000\n",
      "   macro avg       0.84      0.84      0.84      4000\n",
      "weighted avg       0.84      0.84      0.84      4000\n",
      "\n"
     ]
    }
   ],
   "source": [
    "print(classification_report(y_test, y_pred))"
   ]
  },
  {
   "cell_type": "markdown",
   "id": "868d86dc",
   "metadata": {},
   "source": [
    "***"
   ]
  }
 ],
 "metadata": {
  "kernelspec": {
   "display_name": "Python 3 (ipykernel)",
   "language": "python",
   "name": "python3"
  },
  "language_info": {
   "codemirror_mode": {
    "name": "ipython",
    "version": 3
   },
   "file_extension": ".py",
   "mimetype": "text/x-python",
   "name": "python",
   "nbconvert_exporter": "python",
   "pygments_lexer": "ipython3",
   "version": "3.11.5"
  }
 },
 "nbformat": 4,
 "nbformat_minor": 5
}
