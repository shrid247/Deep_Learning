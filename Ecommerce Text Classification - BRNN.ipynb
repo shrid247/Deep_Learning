{
 "cells": [
  {
   "cell_type": "markdown",
   "id": "2893bacb",
   "metadata": {},
   "source": [
    "### Ecommerce Text Classification"
   ]
  },
  {
   "cell_type": "markdown",
   "id": "cab905c1",
   "metadata": {},
   "source": [
    "***"
   ]
  },
  {
   "cell_type": "markdown",
   "id": "cea8d0e2",
   "metadata": {},
   "source": [
    "This is the classification based E-commerce text dataset for 4 categories - \"Electronics\", \"Household\", \"Books\" and \"Clothing & Accessories\", which almost cover 80% of any E-commerce website.\n",
    "\n",
    "The dataset is in \".csv\" format with two columns - the first column is the class name and the second one is the datapoint of that class. The data point is the product and description from the e-commerce website."
   ]
  },
  {
   "cell_type": "code",
   "execution_count": 4,
   "id": "b6b2ea6c",
   "metadata": {},
   "outputs": [],
   "source": [
    "import numpy as np\n",
    "import pandas as pd\n",
    "import matplotlib.pyplot as plt\n",
    "import seaborn as sns\n",
    "import re\n",
    "from nltk.stem import WordNetLemmatizer\n",
    "from tensorflow.keras.preprocessing.text import Tokenizer\n",
    "from tensorflow.keras.preprocessing.sequence import pad_sequences\n",
    "from sklearn.model_selection import train_test_split\n",
    "from tensorflow.keras import Sequential, layers\n",
    "from sklearn.metrics import accuracy_score, confusion_matrix, classification_report"
   ]
  },
  {
   "cell_type": "markdown",
   "id": "13947023",
   "metadata": {},
   "source": [
    "### Read 'ecommerceDataset.csv'"
   ]
  },
  {
   "cell_type": "code",
   "execution_count": 25,
   "id": "0be115c8",
   "metadata": {},
   "outputs": [],
   "source": [
    "df = pd.read_csv('ecommerceDataset.csv', header = None)"
   ]
  },
  {
   "cell_type": "code",
   "execution_count": 27,
   "id": "95a0aed2",
   "metadata": {},
   "outputs": [],
   "source": [
    "df = df.sample(frac = 1)"
   ]
  },
  {
   "cell_type": "code",
   "execution_count": 28,
   "id": "bb7db9c8",
   "metadata": {},
   "outputs": [],
   "source": [
    "df.reset_index(drop = True, inplace = True)"
   ]
  },
  {
   "cell_type": "code",
   "execution_count": 29,
   "id": "876cadfd",
   "metadata": {},
   "outputs": [],
   "source": [
    "df = df[0:1000]"
   ]
  },
  {
   "cell_type": "code",
   "execution_count": 30,
   "id": "be3060d2",
   "metadata": {},
   "outputs": [
    {
     "data": {
      "text/html": [
       "<div>\n",
       "<style scoped>\n",
       "    .dataframe tbody tr th:only-of-type {\n",
       "        vertical-align: middle;\n",
       "    }\n",
       "\n",
       "    .dataframe tbody tr th {\n",
       "        vertical-align: top;\n",
       "    }\n",
       "\n",
       "    .dataframe thead th {\n",
       "        text-align: right;\n",
       "    }\n",
       "</style>\n",
       "<table border=\"1\" class=\"dataframe\">\n",
       "  <thead>\n",
       "    <tr style=\"text-align: right;\">\n",
       "      <th></th>\n",
       "      <th>0</th>\n",
       "      <th>1</th>\n",
       "    </tr>\n",
       "  </thead>\n",
       "  <tbody>\n",
       "    <tr>\n",
       "      <th>0</th>\n",
       "      <td>Household</td>\n",
       "      <td>Saisan Decorative Push Pins Multiple Compartme...</td>\n",
       "    </tr>\n",
       "    <tr>\n",
       "      <th>1</th>\n",
       "      <td>Books</td>\n",
       "      <td>Human Resource Management [Choice Based Credit...</td>\n",
       "    </tr>\n",
       "    <tr>\n",
       "      <th>2</th>\n",
       "      <td>Household</td>\n",
       "      <td>ALTON Leo 12195 Brass Single Lever Kitchen Sin...</td>\n",
       "    </tr>\n",
       "    <tr>\n",
       "      <th>3</th>\n",
       "      <td>Household</td>\n",
       "      <td>SAI high Grade Mailbox An excellent letter box...</td>\n",
       "    </tr>\n",
       "    <tr>\n",
       "      <th>4</th>\n",
       "      <td>Books</td>\n",
       "      <td>The Art Of War</td>\n",
       "    </tr>\n",
       "  </tbody>\n",
       "</table>\n",
       "</div>"
      ],
      "text/plain": [
       "           0                                                  1\n",
       "0  Household  Saisan Decorative Push Pins Multiple Compartme...\n",
       "1      Books  Human Resource Management [Choice Based Credit...\n",
       "2  Household  ALTON Leo 12195 Brass Single Lever Kitchen Sin...\n",
       "3  Household  SAI high Grade Mailbox An excellent letter box...\n",
       "4      Books                                     The Art Of War"
      ]
     },
     "execution_count": 30,
     "metadata": {},
     "output_type": "execute_result"
    }
   ],
   "source": [
    "df.head()"
   ]
  },
  {
   "cell_type": "markdown",
   "id": "2f134edf",
   "metadata": {},
   "source": [
    "### Check info"
   ]
  },
  {
   "cell_type": "code",
   "execution_count": 31,
   "id": "7e7e63e8",
   "metadata": {},
   "outputs": [
    {
     "name": "stdout",
     "output_type": "stream",
     "text": [
      "<class 'pandas.core.frame.DataFrame'>\n",
      "RangeIndex: 1000 entries, 0 to 999\n",
      "Data columns (total 2 columns):\n",
      " #   Column  Non-Null Count  Dtype \n",
      "---  ------  --------------  ----- \n",
      " 0   0       1000 non-null   object\n",
      " 1   1       1000 non-null   object\n",
      "dtypes: object(2)\n",
      "memory usage: 15.8+ KB\n"
     ]
    }
   ],
   "source": [
    "df.info()"
   ]
  },
  {
   "cell_type": "markdown",
   "id": "6ddb6118",
   "metadata": {},
   "source": [
    "### Check for missing values"
   ]
  },
  {
   "cell_type": "code",
   "execution_count": 32,
   "id": "7210798c",
   "metadata": {},
   "outputs": [
    {
     "data": {
      "text/plain": [
       "0    0\n",
       "1    0\n",
       "dtype: int64"
      ]
     },
     "execution_count": 32,
     "metadata": {},
     "output_type": "execute_result"
    }
   ],
   "source": [
    "df.isna().sum()"
   ]
  },
  {
   "cell_type": "markdown",
   "id": "ddfee8a5",
   "metadata": {},
   "source": [
    "### Drop missing rows"
   ]
  },
  {
   "cell_type": "code",
   "execution_count": 33,
   "id": "53d8e062",
   "metadata": {},
   "outputs": [],
   "source": [
    "df.dropna(inplace = True)"
   ]
  },
  {
   "cell_type": "markdown",
   "id": "b329541d",
   "metadata": {},
   "source": [
    "### Print some of the text along with its Label"
   ]
  },
  {
   "cell_type": "code",
   "execution_count": 34,
   "id": "929a39cf",
   "metadata": {},
   "outputs": [
    {
     "name": "stdout",
     "output_type": "stream",
     "text": [
      "Household -- Saisan Decorative Push Pins Multiple Compartment Different Projects Reusable Organizing Container Storage Box By Office & Home (50 Pieces) Brand : SAISAN Color : Light Green Description :   - Office+Style Colored Push Pins add life to any office or home bulletin board. The bright colored push pins make them more noticeable and less boring than standard ones. They come in a convenient six compartment plastic transparent container with a re-closable lid for easy storage. The push pins are made from durable plastic and stainless steel with sharp tips.\n",
      "\n",
      "Books -- Human Resource Management [Choice Based Credit System (CBCS)] (June 2016 Edition) [Choice Based Credit System (CBCS)]\n",
      "\n",
      "Household -- ALTON Leo 12195 Brass Single Lever Kitchen Sink Mixer with 360 Swivel Spout and Flexible Silicone Spout, Sink Taps (Black)\n",
      "\n",
      "Household -- SAI high Grade Mailbox An excellent letter box. It has strong, sturdy lock. High grade iron material body will keep your mail safe and secure. Long last powder coating and nice red color enhance your exterior look.\n",
      "\n",
      "Books -- The Art Of War\n",
      "\n"
     ]
    }
   ],
   "source": [
    "for i in range(5):\n",
    "    print(df[0][i],'--',df[1][i])\n",
    "    print()"
   ]
  },
  {
   "cell_type": "markdown",
   "id": "8261530c",
   "metadata": {},
   "source": [
    "### Create a function to preprocess the text"
   ]
  },
  {
   "cell_type": "code",
   "execution_count": 18,
   "id": "9dbc6fe4",
   "metadata": {},
   "outputs": [],
   "source": [
    "def preprocess(sentence):\n",
    "    sentence = sentence.lower()\n",
    "    \n",
    "    text = re.sub(r\"[^a-zA-Z0-9]\", ' ', sentence).split()\n",
    "    \n",
    "    lemma = WordNetLemmatizer()\n",
    "    text = [lemma.lemmatize(i) for i in text]\n",
    "    \n",
    "    return ' '.join(text)"
   ]
  },
  {
   "cell_type": "code",
   "execution_count": 35,
   "id": "b9dbec61",
   "metadata": {},
   "outputs": [],
   "source": [
    "df[1] = df[1].apply(preprocess)"
   ]
  },
  {
   "cell_type": "markdown",
   "id": "6ca61a38",
   "metadata": {},
   "source": [
    "### Print some of the texts after the applying the function"
   ]
  },
  {
   "cell_type": "code",
   "execution_count": 36,
   "id": "1a16a6fa",
   "metadata": {},
   "outputs": [
    {
     "name": "stdout",
     "output_type": "stream",
     "text": [
      "Household -- saisan decorative push pin multiple compartment different project reusable organizing container storage box by office home 50 piece brand saisan color light green description office style colored push pin add life to any office or home bulletin board the bright colored push pin make them more noticeable and le boring than standard one they come in a convenient six compartment plastic transparent container with a re closable lid for easy storage the push pin are made from durable plastic and stainless steel with sharp tip\n",
      "\n",
      "Books -- human resource management choice based credit system cbc june 2016 edition choice based credit system cbc\n",
      "\n",
      "Household -- alton leo 12195 brass single lever kitchen sink mixer with 360 swivel spout and flexible silicone spout sink tap black\n",
      "\n",
      "Household -- sai high grade mailbox an excellent letter box it ha strong sturdy lock high grade iron material body will keep your mail safe and secure long last powder coating and nice red color enhance your exterior look\n",
      "\n",
      "Books -- the art of war\n",
      "\n"
     ]
    }
   ],
   "source": [
    "for i in range(5):\n",
    "    print(df[0][i],'--',df[1][i])\n",
    "    print()"
   ]
  },
  {
   "cell_type": "markdown",
   "id": "6453c4c8",
   "metadata": {},
   "source": [
    "### Check for imbalance in the dataset"
   ]
  },
  {
   "cell_type": "code",
   "execution_count": 45,
   "id": "b26a2b82",
   "metadata": {},
   "outputs": [
    {
     "data": {
      "text/plain": [
       "<AxesSubplot:ylabel='0'>"
      ]
     },
     "execution_count": 45,
     "metadata": {},
     "output_type": "execute_result"
    },
    {
     "data": {
      "image/png": "[encoded data removed]",
      "text/plain": [
       "<Figure size 1008x288 with 2 Axes>"
      ]
     },
     "metadata": {
      "needs_background": "light"
     },
     "output_type": "display_data"
    }
   ],
   "source": [
    "plt.figure(figsize= (14,4))\n",
    "plt.subplot(1,2,1)\n",
    "sns.countplot(y = df[0])\n",
    "plt.subplot(1,2,2)\n",
    "df[0].value_counts().plot.pie(autopct = '%1.1f%%', cmap = 'plasma')"
   ]
  },
  {
   "cell_type": "markdown",
   "id": "ae6df594",
   "metadata": {},
   "source": [
    "### Split the dataset into Input & Target Variables"
   ]
  },
  {
   "cell_type": "code",
   "execution_count": 46,
   "id": "35bba160",
   "metadata": {},
   "outputs": [],
   "source": [
    "X = df[1]"
   ]
  },
  {
   "cell_type": "code",
   "execution_count": 47,
   "id": "700b5d61",
   "metadata": {},
   "outputs": [],
   "source": [
    "y = df[0]"
   ]
  },
  {
   "cell_type": "markdown",
   "id": "391c3c5e",
   "metadata": {},
   "source": [
    "### Label Encode our Target Variables"
   ]
  },
  {
   "cell_type": "code",
   "execution_count": 49,
   "id": "b23ffb32",
   "metadata": {},
   "outputs": [],
   "source": [
    "y = y.map({'Household':0,'Books':1, 'Clothing & Accessories':2, 'Electronics':3})"
   ]
  },
  {
   "cell_type": "markdown",
   "id": "dd925a6a",
   "metadata": {},
   "source": [
    "### Create Keras tokenizer object with 5000 max words\n",
    "* Convert text to sequence\n",
    "* Add padding"
   ]
  },
  {
   "cell_type": "code",
   "execution_count": 51,
   "id": "1602b299",
   "metadata": {},
   "outputs": [],
   "source": [
    "tokenizer = Tokenizer(num_words=5000)\n",
    "tokenizer.fit_on_texts(X)\n",
    "vocab_size = len(tokenizer.word_index) + 1\n",
    "\n",
    "def text_encoding(txt):\n",
    "    encoded_docs = tokenizer.texts_to_sequences(txt)\n",
    "    \n",
    "    padded_sequence = pad_sequences(encoded_docs, maxlen = 128)\n",
    "    \n",
    "    return padded_sequence\n",
    "\n",
    "X = text_encoding(X)"
   ]
  },
  {
   "cell_type": "markdown",
   "id": "646a5215",
   "metadata": {},
   "source": [
    "### Split the dataset into Training & Testing set"
   ]
  },
  {
   "cell_type": "code",
   "execution_count": 52,
   "id": "031d0aeb",
   "metadata": {},
   "outputs": [],
   "source": [
    "X_train, X_test,y_train,y_test = train_test_split(X,y, test_size = 0.2)"
   ]
  },
  {
   "cell_type": "markdown",
   "id": "8a03f6e5",
   "metadata": {},
   "source": [
    "### Create keras Sequential model with Bidirectional LSTM layers"
   ]
  },
  {
   "cell_type": "code",
   "execution_count": 57,
   "id": "df2f07b8",
   "metadata": {},
   "outputs": [],
   "source": [
    "model = Sequential()\n",
    "\n",
    "model.add(layers.Embedding(vocab_size, 128))\n",
    "\n",
    "model.add(layers.Bidirectional(layers.LSTM(128, return_sequences=True)))\n",
    "model.add(layers.Dropout(0.2))\n",
    "\n",
    "model.add(layers.Bidirectional(layers.LSTM(128)))\n",
    "model.add(layers.Dropout(0.2))\n",
    "\n",
    "model.add(layers.Dense(4, activation = 'sigmoid'))"
   ]
  },
  {
   "cell_type": "markdown",
   "id": "3652d285",
   "metadata": {},
   "source": [
    "### Compile the model"
   ]
  },
  {
   "cell_type": "code",
   "execution_count": 58,
   "id": "7257228e",
   "metadata": {},
   "outputs": [],
   "source": [
    "model.compile(optimizer = 'adam', loss= 'sparse_categorical_crossentropy', metrics = ['accuracy'])"
   ]
  },
  {
   "cell_type": "markdown",
   "id": "00de5e0e",
   "metadata": {},
   "source": [
    "### Train the model"
   ]
  },
  {
   "cell_type": "code",
   "execution_count": 59,
   "id": "b3b014fc",
   "metadata": {},
   "outputs": [
    {
     "name": "stdout",
     "output_type": "stream",
     "text": [
      "Epoch 1/10\n",
      "24/24 [==============================] - 29s 671ms/step - loss: 1.2922 - accuracy: 0.4250 - val_loss: 1.3520 - val_accuracy: 0.3500\n",
      "Epoch 2/10\n",
      "24/24 [==============================] - 12s 517ms/step - loss: 0.9028 - accuracy: 0.6026 - val_loss: 1.0638 - val_accuracy: 0.5250\n",
      "Epoch 3/10\n",
      "24/24 [==============================] - 12s 513ms/step - loss: 0.4314 - accuracy: 0.8461 - val_loss: 0.8646 - val_accuracy: 0.7000\n",
      "Epoch 4/10\n",
      "24/24 [==============================] - 12s 496ms/step - loss: 0.2523 - accuracy: 0.9368 - val_loss: 0.4955 - val_accuracy: 0.8000\n",
      "Epoch 5/10\n",
      "24/24 [==============================] - 12s 498ms/step - loss: 0.0936 - accuracy: 0.9816 - val_loss: 0.5008 - val_accuracy: 0.8500\n",
      "Epoch 6/10\n",
      "24/24 [==============================] - 13s 537ms/step - loss: 0.0194 - accuracy: 0.9974 - val_loss: 0.4887 - val_accuracy: 0.8250\n",
      "Epoch 7/10\n",
      "24/24 [==============================] - 16s 654ms/step - loss: 0.0362 - accuracy: 0.9947 - val_loss: 0.5077 - val_accuracy: 0.8250\n",
      "Epoch 8/10\n",
      "24/24 [==============================] - 15s 646ms/step - loss: 0.0118 - accuracy: 0.9987 - val_loss: 0.5036 - val_accuracy: 0.8250\n",
      "Epoch 9/10\n",
      "24/24 [==============================] - 17s 728ms/step - loss: 0.0093 - accuracy: 0.9987 - val_loss: 0.6331 - val_accuracy: 0.8000\n",
      "Epoch 10/10\n",
      "24/24 [==============================] - 17s 709ms/step - loss: 0.0151 - accuracy: 0.9974 - val_loss: 1.2484 - val_accuracy: 0.7250\n"
     ]
    },
    {
     "data": {
      "text/plain": [
       "<keras.callbacks.History at 0x1dae30d4910>"
      ]
     },
     "execution_count": 59,
     "metadata": {},
     "output_type": "execute_result"
    }
   ],
   "source": [
    "model.fit(X_train, y_train, epochs = 10, validation_split=0.05)"
   ]
  },
  {
   "cell_type": "markdown",
   "id": "7286d926",
   "metadata": {},
   "source": [
    "### Make predictions with X_test"
   ]
  },
  {
   "cell_type": "code",
   "execution_count": 60,
   "id": "9c0c2c9a",
   "metadata": {},
   "outputs": [
    {
     "name": "stdout",
     "output_type": "stream",
     "text": [
      "7/7 [==============================] - 8s 175ms/step\n"
     ]
    }
   ],
   "source": [
    "y_pred = model.predict(X_test)"
   ]
  },
  {
   "cell_type": "markdown",
   "id": "5be37c95",
   "metadata": {},
   "source": [
    "### Fetch the index of the higher probable prediction"
   ]
  },
  {
   "cell_type": "code",
   "execution_count": 61,
   "id": "9796e71b",
   "metadata": {},
   "outputs": [],
   "source": [
    "y_pred = [np.argmax(i) for i in y_pred]"
   ]
  },
  {
   "cell_type": "markdown",
   "id": "330f1e88",
   "metadata": {},
   "source": [
    "### Evaluate the model"
   ]
  },
  {
   "cell_type": "markdown",
   "id": "a018f2c7",
   "metadata": {},
   "source": [
    "### Accuracy score"
   ]
  },
  {
   "cell_type": "code",
   "execution_count": 62,
   "id": "014fbaf7",
   "metadata": {},
   "outputs": [
    {
     "data": {
      "text/plain": [
       "0.87"
      ]
     },
     "execution_count": 62,
     "metadata": {},
     "output_type": "execute_result"
    }
   ],
   "source": [
    "accuracy_score(y_test,y_pred)"
   ]
  },
  {
   "cell_type": "markdown",
   "id": "71207bfa",
   "metadata": {},
   "source": [
    "### Confusion matrix"
   ]
  },
  {
   "cell_type": "code",
   "execution_count": 63,
   "id": "a6ac7901",
   "metadata": {},
   "outputs": [
    {
     "data": {
      "text/plain": [
       "<AxesSubplot:>"
      ]
     },
     "execution_count": 63,
     "metadata": {},
     "output_type": "execute_result"
    },
    {
     "data": {
      "image/png": "[encoded data removed]",
      "text/plain": [
       "<Figure size 432x288 with 2 Axes>"
      ]
     },
     "metadata": {
      "needs_background": "light"
     },
     "output_type": "display_data"
    }
   ],
   "source": [
    "sns.heatmap(confusion_matrix(y_test,y_pred), annot = True, fmt = 'd')"
   ]
  },
  {
   "cell_type": "markdown",
   "id": "e0d72289",
   "metadata": {},
   "source": [
    "### Classification Report"
   ]
  },
  {
   "cell_type": "code",
   "execution_count": 64,
   "id": "9dacd583",
   "metadata": {},
   "outputs": [
    {
     "name": "stdout",
     "output_type": "stream",
     "text": [
      "              precision    recall  f1-score   support\n",
      "\n",
      "           0       0.87      0.91      0.89        78\n",
      "           1       0.90      0.94      0.92        47\n",
      "           2       0.96      0.68      0.80        38\n",
      "           3       0.79      0.89      0.84        37\n",
      "\n",
      "    accuracy                           0.87       200\n",
      "   macro avg       0.88      0.86      0.86       200\n",
      "weighted avg       0.88      0.87      0.87       200\n",
      "\n"
     ]
    }
   ],
   "source": [
    "print(classification_report(y_test,y_pred))"
   ]
  },
  {
   "cell_type": "markdown",
   "id": "a0554b93",
   "metadata": {},
   "source": [
    "***"
   ]
  }
 ],
 "metadata": {
  "kernelspec": {
   "display_name": "Python 3 (ipykernel)",
   "language": "python",
   "name": "python3"
  },
  "language_info": {
   "codemirror_mode": {
    "name": "ipython",
    "version": 3
   },
   "file_extension": ".py",
   "mimetype": "text/x-python",
   "name": "python",
   "nbconvert_exporter": "python",
   "pygments_lexer": "ipython3",
   "version": "3.11.5"
  }
 },
 "nbformat": 4,
 "nbformat_minor": 5
}
