{
 "cells": [
  {
   "cell_type": "markdown",
   "id": "0dfed2dd",
   "metadata": {},
   "source": [
    "### IMBD Movie review Classification Project"
   ]
  },
  {
   "cell_type": "markdown",
   "id": "20170a0a",
   "metadata": {},
   "source": [
    "***"
   ]
  },
  {
   "cell_type": "markdown",
   "id": "7860c4cd",
   "metadata": {},
   "source": [
    "IMDB dataset having 50K movie reviews for natural language processing or Text analytics.\n",
    "\n",
    "This is a dataset for binary sentiment classification containing substantially more data than previous benchmark datasets. We provide a set of 25,000 highly polar movie reviews for training and 25,000 for testing. So, predict the number of positive and negative reviews using either classification or deep learning algorithms."
   ]
  },
  {
   "cell_type": "markdown",
   "id": "c6c162e4",
   "metadata": {},
   "source": [
    "You can also download the dataset <a href = \"https://www.kaggle.com/datasets/lakshmi25npathi/imdb-dataset-of-50k-movie-reviews\">here </a>"
   ]
  },
  {
   "cell_type": "markdown",
   "id": "d37a0303",
   "metadata": {},
   "source": [
    "***"
   ]
  },
  {
   "cell_type": "markdown",
   "id": "324dff02",
   "metadata": {},
   "source": [
    "### Import necessary libraries"
   ]
  },
  {
   "cell_type": "code",
   "execution_count": 1,
   "id": "d382482c",
   "metadata": {},
   "outputs": [],
   "source": [
    "import pandas as pd\n",
    "import numpy as np\n",
    "import matplotlib.pyplot as plt\n",
    "import seaborn as sns\n",
    "from sklearn.model_selection import train_test_split"
   ]
  },
  {
   "cell_type": "markdown",
   "id": "bde0af29",
   "metadata": {},
   "source": [
    "### Read IMDB Dataset"
   ]
  },
  {
   "cell_type": "code",
   "execution_count": 2,
   "id": "6c0f2108",
   "metadata": {},
   "outputs": [],
   "source": [
    "df = pd.read_csv(\"IMDB Dataset.csv\")"
   ]
  },
  {
   "cell_type": "code",
   "execution_count": 3,
   "id": "af9d465d",
   "metadata": {},
   "outputs": [],
   "source": [
    "df = df.head(10000)"
   ]
  },
  {
   "cell_type": "code",
   "execution_count": 4,
   "id": "b68cace3",
   "metadata": {},
   "outputs": [
    {
     "data": {
      "text/html": [
       "<div>\n",
       "<style scoped>\n",
       "    .dataframe tbody tr th:only-of-type {\n",
       "        vertical-align: middle;\n",
       "    }\n",
       "\n",
       "    .dataframe tbody tr th {\n",
       "        vertical-align: top;\n",
       "    }\n",
       "\n",
       "    .dataframe thead th {\n",
       "        text-align: right;\n",
       "    }\n",
       "</style>\n",
       "<table border=\"1\" class=\"dataframe\">\n",
       "  <thead>\n",
       "    <tr style=\"text-align: right;\">\n",
       "      <th></th>\n",
       "      <th>review</th>\n",
       "      <th>sentiment</th>\n",
       "    </tr>\n",
       "  </thead>\n",
       "  <tbody>\n",
       "    <tr>\n",
       "      <th>0</th>\n",
       "      <td>One of the other reviewers has mentioned that ...</td>\n",
       "      <td>positive</td>\n",
       "    </tr>\n",
       "    <tr>\n",
       "      <th>1</th>\n",
       "      <td>A wonderful little production. &lt;br /&gt;&lt;br /&gt;The...</td>\n",
       "      <td>positive</td>\n",
       "    </tr>\n",
       "    <tr>\n",
       "      <th>2</th>\n",
       "      <td>I thought this was a wonderful way to spend ti...</td>\n",
       "      <td>positive</td>\n",
       "    </tr>\n",
       "    <tr>\n",
       "      <th>3</th>\n",
       "      <td>Basically there's a family where a little boy ...</td>\n",
       "      <td>negative</td>\n",
       "    </tr>\n",
       "    <tr>\n",
       "      <th>4</th>\n",
       "      <td>Petter Mattei's \"Love in the Time of Money\" is...</td>\n",
       "      <td>positive</td>\n",
       "    </tr>\n",
       "  </tbody>\n",
       "</table>\n",
       "</div>"
      ],
      "text/plain": [
       "                                              review sentiment\n",
       "0  One of the other reviewers has mentioned that ...  positive\n",
       "1  A wonderful little production. <br /><br />The...  positive\n",
       "2  I thought this was a wonderful way to spend ti...  positive\n",
       "3  Basically there's a family where a little boy ...  negative\n",
       "4  Petter Mattei's \"Love in the Time of Money\" is...  positive"
      ]
     },
     "execution_count": 4,
     "metadata": {},
     "output_type": "execute_result"
    }
   ],
   "source": [
    "df.head()"
   ]
  },
  {
   "cell_type": "markdown",
   "id": "65c1e3b9",
   "metadata": {},
   "source": [
    "### Check Info"
   ]
  },
  {
   "cell_type": "code",
   "execution_count": 5,
   "id": "a5fd57b0",
   "metadata": {},
   "outputs": [
    {
     "name": "stdout",
     "output_type": "stream",
     "text": [
      "<class 'pandas.core.frame.DataFrame'>\n",
      "RangeIndex: 10000 entries, 0 to 9999\n",
      "Data columns (total 2 columns):\n",
      " #   Column     Non-Null Count  Dtype \n",
      "---  ------     --------------  ----- \n",
      " 0   review     10000 non-null  object\n",
      " 1   sentiment  10000 non-null  object\n",
      "dtypes: object(2)\n",
      "memory usage: 156.4+ KB\n"
     ]
    }
   ],
   "source": [
    "df.info()"
   ]
  },
  {
   "cell_type": "code",
   "execution_count": null,
   "id": "14a066b0",
   "metadata": {},
   "outputs": [],
   "source": []
  },
  {
   "cell_type": "markdown",
   "id": "bbde79dc",
   "metadata": {},
   "source": [
    "### View descriptive stats"
   ]
  },
  {
   "cell_type": "code",
   "execution_count": 6,
   "id": "a6c8d6e8",
   "metadata": {},
   "outputs": [
    {
     "data": {
      "text/html": [
       "<div>\n",
       "<style scoped>\n",
       "    .dataframe tbody tr th:only-of-type {\n",
       "        vertical-align: middle;\n",
       "    }\n",
       "\n",
       "    .dataframe tbody tr th {\n",
       "        vertical-align: top;\n",
       "    }\n",
       "\n",
       "    .dataframe thead th {\n",
       "        text-align: right;\n",
       "    }\n",
       "</style>\n",
       "<table border=\"1\" class=\"dataframe\">\n",
       "  <thead>\n",
       "    <tr style=\"text-align: right;\">\n",
       "      <th></th>\n",
       "      <th>review</th>\n",
       "      <th>sentiment</th>\n",
       "    </tr>\n",
       "  </thead>\n",
       "  <tbody>\n",
       "    <tr>\n",
       "      <th>count</th>\n",
       "      <td>10000</td>\n",
       "      <td>10000</td>\n",
       "    </tr>\n",
       "    <tr>\n",
       "      <th>unique</th>\n",
       "      <td>9983</td>\n",
       "      <td>2</td>\n",
       "    </tr>\n",
       "    <tr>\n",
       "      <th>top</th>\n",
       "      <td>Beautiful film, pure Cassavetes style. Gena Ro...</td>\n",
       "      <td>positive</td>\n",
       "    </tr>\n",
       "    <tr>\n",
       "      <th>freq</th>\n",
       "      <td>2</td>\n",
       "      <td>5028</td>\n",
       "    </tr>\n",
       "  </tbody>\n",
       "</table>\n",
       "</div>"
      ],
      "text/plain": [
       "                                                   review sentiment\n",
       "count                                               10000     10000\n",
       "unique                                               9983         2\n",
       "top     Beautiful film, pure Cassavetes style. Gena Ro...  positive\n",
       "freq                                                    2      5028"
      ]
     },
     "execution_count": 6,
     "metadata": {},
     "output_type": "execute_result"
    }
   ],
   "source": [
    "df.describe()"
   ]
  },
  {
   "cell_type": "code",
   "execution_count": null,
   "id": "725be31e",
   "metadata": {},
   "outputs": [],
   "source": []
  },
  {
   "cell_type": "markdown",
   "id": "cf3f09ff",
   "metadata": {},
   "source": [
    "### Check for imbalanced data"
   ]
  },
  {
   "cell_type": "code",
   "execution_count": 7,
   "id": "47ea7db5",
   "metadata": {},
   "outputs": [
    {
     "data": {
      "text/plain": [
       "positive    5028\n",
       "negative    4972\n",
       "Name: sentiment, dtype: int64"
      ]
     },
     "execution_count": 7,
     "metadata": {},
     "output_type": "execute_result"
    }
   ],
   "source": [
    "df['sentiment'].value_counts()"
   ]
  },
  {
   "cell_type": "code",
   "execution_count": 8,
   "id": "497bb02b",
   "metadata": {},
   "outputs": [
    {
     "data": {
      "text/plain": [
       "<Axes: ylabel='sentiment'>"
      ]
     },
     "execution_count": 8,
     "metadata": {},
     "output_type": "execute_result"
    },
    {
     "data": {
      "image/png": "[encoded data removed]",
      "text/plain": [
       "<Figure size 640x480 with 2 Axes>"
      ]
     },
     "metadata": {},
     "output_type": "display_data"
    }
   ],
   "source": [
    "plt.subplot(1,2,1)\n",
    "sns.countplot(x=df['sentiment'])\n",
    "\n",
    "plt.subplot(1,2,2)\n",
    "df['sentiment'].value_counts().plot(kind='pie',autopct = \"%1.1f%%\")"
   ]
  },
  {
   "cell_type": "code",
   "execution_count": null,
   "id": "8198d6e5",
   "metadata": {},
   "outputs": [],
   "source": []
  },
  {
   "cell_type": "markdown",
   "id": "176350f2",
   "metadata": {},
   "source": [
    "### Create a function to Preprocess the review column"
   ]
  },
  {
   "cell_type": "code",
   "execution_count": 9,
   "id": "8f1587c3",
   "metadata": {},
   "outputs": [],
   "source": [
    "import re\n",
    "from nltk.corpus import stopwords\n",
    "from nltk.stem import WordNetLemmatizer"
   ]
  },
  {
   "cell_type": "code",
   "execution_count": 10,
   "id": "5dfaeaea",
   "metadata": {},
   "outputs": [],
   "source": [
    "def preprocess(sentence):\n",
    "    text = re.sub(r\"[^a-zA-Z0-9]\",\" \",sentence).split()\n",
    "    words = [x.lower() for x in text if x not in stopwords.words('english')]\n",
    "    \n",
    "    lemma =WordNetLemmatizer()\n",
    "    word = [lemma.lemmatize(word,'v') for word in words]\n",
    "    \n",
    "    word = ' '.join(word)\n",
    "    return word"
   ]
  },
  {
   "cell_type": "markdown",
   "id": "9253f786",
   "metadata": {},
   "source": [
    "### Print some text after applying the function"
   ]
  },
  {
   "cell_type": "code",
   "execution_count": 11,
   "id": "1103ab1c",
   "metadata": {},
   "outputs": [],
   "source": [
    "df['review'] =  df['review'].apply(preprocess)"
   ]
  },
  {
   "cell_type": "code",
   "execution_count": 12,
   "id": "9f13616a",
   "metadata": {},
   "outputs": [
    {
     "name": "stdout",
     "output_type": "stream",
     "text": [
      "one reviewers mention watch 1 oz episode hook they right exactly happen br br the first thing strike oz brutality unflinching scenes violence set right word go trust show faint hearted timid this show pull punch regard drug sex violence its hardcore classic use word br br it call oz nickname give oswald maximum security state penitentary it focus mainly emerald city experimental section prison cells glass front face inwards privacy high agenda em city home many aryans muslims gangstas latinos christians italians irish scuffle death star dodgy deal shady agreements never far away br br i would say main appeal show due fact go show dare forget pretty picture paint mainstream audiences forget charm forget romance oz mess around the first episode i ever saw strike nasty surreal i say i ready i watch i develop taste oz get accustom high level graphic violence not violence injustice crook guard sell nickel inmates kill order get away well mannered middle class inmates turn prison bitch due lack street skills prison experience watch oz may become comfortable uncomfortable view thats get touch darker side\n",
      "\n",
      "a wonderful little production br br the film technique unassuming old time bbc fashion give comfort sometimes discomforting sense realism entire piece br br the actors extremely well choose michael sheen get polari voice pat you truly see seamless edit guide reference williams diary entries well worth watch terrificly write perform piece a masterful production one great master comedy life br br the realism really come home little things fantasy guard rather use traditional dream techniques remain solid disappear it play knowledge sense particularly scenes concern orton halliwell set particularly flat halliwell murals decorate every surface terribly well do\n",
      "\n",
      "i think wonderful way spend time hot summer weekend sit air condition theater watch light hearted comedy the plot simplistic dialogue witty character likable even well bread suspect serial killer while may disappoint realize match point 2 risk addiction i think proof woody allen still fully control style many us grow love br br this i laugh one woody comedies years dare i say decade while i never impress scarlet johanson manage tone sexy image jump right average spirit young woman br br this may crown jewel career wittier devil wear prada interest superman great comedy go see friends\n",
      "\n",
      "basically family little boy jake think zombie closet parent fight time br br this movie slower soap opera suddenly jake decide become rambo kill zombie br br ok first go make film must decide thriller drama as drama movie watchable parent divorce argue like real life and jake closet totally ruin film i expect see boogeyman similar movie instead watch drama meaningless thriller spot br br 3 10 well play parent descent dialogs as shots jake ignore\n",
      "\n",
      "petter mattei love time money visually stun film watch mr mattei offer us vivid portrait human relations this movie seem tell us money power success people different situations encounter br br this variation arthur schnitzler play theme director transfer action present time new york different character meet connect each one connect one way another next person one seem know previous point contact stylishly film sophisticate luxurious look we take see people live world live habitat br br the thing one get souls picture different stag loneliness one inhabit a big city exactly best place human relations find sincere fulfillment one discern case people encounter br br the act good mr mattei direction steve buscemi rosario dawson carol kane michael imperioli adrian grenier rest talented cast make character come alive br br we wish mr mattei good luck await anxiously next work\n",
      "\n"
     ]
    }
   ],
   "source": [
    "for i in range(5):\n",
    "    print(df['review'][i])\n",
    "    print()"
   ]
  },
  {
   "cell_type": "code",
   "execution_count": null,
   "id": "e00cad5b",
   "metadata": {},
   "outputs": [],
   "source": []
  },
  {
   "cell_type": "markdown",
   "id": "450434bf",
   "metadata": {},
   "source": [
    "### Split the dataset into Input (X) & Target (y) variable"
   ]
  },
  {
   "cell_type": "code",
   "execution_count": 13,
   "id": "80fd9ed3",
   "metadata": {},
   "outputs": [],
   "source": [
    "x = df['review']\n",
    "y = df['sentiment']"
   ]
  },
  {
   "cell_type": "code",
   "execution_count": null,
   "id": "61a41306",
   "metadata": {},
   "outputs": [],
   "source": []
  },
  {
   "cell_type": "markdown",
   "id": "567f8084",
   "metadata": {},
   "source": [
    "### Convert y variable values into 0 and 1 from positive and negative"
   ]
  },
  {
   "cell_type": "code",
   "execution_count": 14,
   "id": "3d083a00",
   "metadata": {},
   "outputs": [],
   "source": [
    "y = y.apply(lambda x: 0 if x=='positive' else 1)"
   ]
  },
  {
   "cell_type": "code",
   "execution_count": 15,
   "id": "eef44fbc",
   "metadata": {},
   "outputs": [
    {
     "data": {
      "text/plain": [
       "0       0\n",
       "1       0\n",
       "2       0\n",
       "3       1\n",
       "4       0\n",
       "       ..\n",
       "9995    0\n",
       "9996    1\n",
       "9997    1\n",
       "9998    1\n",
       "9999    0\n",
       "Name: sentiment, Length: 10000, dtype: int64"
      ]
     },
     "execution_count": 15,
     "metadata": {},
     "output_type": "execute_result"
    }
   ],
   "source": [
    "y"
   ]
  },
  {
   "cell_type": "markdown",
   "id": "c086feab",
   "metadata": {},
   "source": [
    "### Create Keras tokenizer object with 5000 max words\n",
    "* Convert text to sequence\n",
    "* Add padding"
   ]
  },
  {
   "cell_type": "code",
   "execution_count": 16,
   "id": "4d29d0ad",
   "metadata": {},
   "outputs": [],
   "source": [
    "from tensorflow.keras.preprocessing.text import Tokenizer\n",
    "from keras.preprocessing.sequence import pad_sequences"
   ]
  },
  {
   "cell_type": "code",
   "execution_count": 17,
   "id": "95c231de",
   "metadata": {},
   "outputs": [],
   "source": [
    "tokenizer = Tokenizer(num_words=5000)"
   ]
  },
  {
   "cell_type": "markdown",
   "id": "6f07f68e",
   "metadata": {},
   "source": [
    "### Split the dataset into Training & Testing set"
   ]
  },
  {
   "cell_type": "code",
   "execution_count": 18,
   "id": "6cf61208",
   "metadata": {},
   "outputs": [],
   "source": [
    "x_train,x_test,y_train,y_test=train_test_split(x,y,test_size=0.2)"
   ]
  },
  {
   "cell_type": "markdown",
   "id": "1f4dba57",
   "metadata": {},
   "source": [
    "### Create keras Sequential Model with LSTM Layers"
   ]
  },
  {
   "cell_type": "code",
   "execution_count": 19,
   "id": "346d04f3",
   "metadata": {},
   "outputs": [],
   "source": [
    "tokenizer.fit_on_texts(x_train)"
   ]
  },
  {
   "cell_type": "code",
   "execution_count": 20,
   "id": "10a9e196",
   "metadata": {},
   "outputs": [],
   "source": [
    "vocab_size = len(tokenizer.word_index)+1"
   ]
  },
  {
   "cell_type": "code",
   "execution_count": 21,
   "id": "4278e1d4",
   "metadata": {},
   "outputs": [],
   "source": [
    "def text_encoding(txt):\n",
    "    # texts_to_sequences Transforms each text in texts to a sequence of integers.\n",
    "    encoded_docs = tokenizer.texts_to_sequences(txt)\n",
    "    \n",
    "    # pad_sequences is used to ensure that all sequences in a list have the same length.\n",
    "    padded_sequence = pad_sequences(encoded_docs, maxlen=128)    \n",
    "       \n",
    "    return padded_sequence"
   ]
  },
  {
   "cell_type": "code",
   "execution_count": 22,
   "id": "de3eb476",
   "metadata": {},
   "outputs": [],
   "source": [
    "x_train = text_encoding(x_train)\n",
    "x_test = text_encoding(x_test)"
   ]
  },
  {
   "cell_type": "code",
   "execution_count": 23,
   "id": "bcd576f1",
   "metadata": {},
   "outputs": [],
   "source": [
    "from keras import Sequential\n",
    "from keras import layers"
   ]
  },
  {
   "cell_type": "code",
   "execution_count": 24,
   "id": "68790216",
   "metadata": {},
   "outputs": [],
   "source": [
    "model=Sequential([\n",
    "    layers.Embedding(vocab_size,128),\n",
    "    layers.LSTM(128,return_sequences=True),\n",
    "    layers.Dropout(0.02),\n",
    "    layers.LSTM(128),\n",
    "    layers.Dropout(0.02),\n",
    "    layers.Flatten(),\n",
    "    layers.Dense(64,activation='relu'),\n",
    "    layers.Dropout(0.02),\n",
    "    layers.Dense(1,activation='sigmoid')\n",
    "])"
   ]
  },
  {
   "cell_type": "markdown",
   "id": "4999db65",
   "metadata": {},
   "source": [
    "### Compile the model"
   ]
  },
  {
   "cell_type": "code",
   "execution_count": 25,
   "id": "91b48ae1",
   "metadata": {},
   "outputs": [],
   "source": [
    "model.compile(loss = 'binary_crossentropy', optimizer = 'adam', metrics =[\"accuracy\"])"
   ]
  },
  {
   "cell_type": "markdown",
   "id": "e47a9466",
   "metadata": {},
   "source": [
    "### Train the model with our training set"
   ]
  },
  {
   "cell_type": "code",
   "execution_count": 26,
   "id": "20bfe8aa",
   "metadata": {},
   "outputs": [
    {
     "name": "stdout",
     "output_type": "stream",
     "text": [
      "Epoch 1/10\n",
      "\u001b[1m200/200\u001b[0m \u001b[32m━━━━━━━━━━━━━━━━━━━━\u001b[0m\u001b[37m\u001b[0m \u001b[1m29s\u001b[0m 131ms/step - accuracy: 0.6872 - loss: 0.5769 - val_accuracy: 0.8269 - val_loss: 0.4010\n",
      "Epoch 2/10\n",
      "\u001b[1m200/200\u001b[0m \u001b[32m━━━━━━━━━━━━━━━━━━━━\u001b[0m\u001b[37m\u001b[0m \u001b[1m25s\u001b[0m 126ms/step - accuracy: 0.9129 - loss: 0.2412 - val_accuracy: 0.8281 - val_loss: 0.4235\n",
      "Epoch 3/10\n",
      "\u001b[1m200/200\u001b[0m \u001b[32m━━━━━━━━━━━━━━━━━━━━\u001b[0m\u001b[37m\u001b[0m \u001b[1m25s\u001b[0m 126ms/step - accuracy: 0.9560 - loss: 0.1296 - val_accuracy: 0.8319 - val_loss: 0.4306\n",
      "Epoch 4/10\n",
      "\u001b[1m200/200\u001b[0m \u001b[32m━━━━━━━━━━━━━━━━━━━━\u001b[0m\u001b[37m\u001b[0m \u001b[1m26s\u001b[0m 131ms/step - accuracy: 0.9744 - loss: 0.0823 - val_accuracy: 0.8225 - val_loss: 0.5366\n",
      "Epoch 5/10\n",
      "\u001b[1m200/200\u001b[0m \u001b[32m━━━━━━━━━━━━━━━━━━━━\u001b[0m\u001b[37m\u001b[0m \u001b[1m31s\u001b[0m 155ms/step - accuracy: 0.9825 - loss: 0.0605 - val_accuracy: 0.8075 - val_loss: 0.7005\n",
      "Epoch 6/10\n",
      "\u001b[1m200/200\u001b[0m \u001b[32m━━━━━━━━━━━━━━━━━━━━\u001b[0m\u001b[37m\u001b[0m \u001b[1m29s\u001b[0m 143ms/step - accuracy: 0.9898 - loss: 0.0293 - val_accuracy: 0.8150 - val_loss: 0.7809\n",
      "Epoch 7/10\n",
      "\u001b[1m200/200\u001b[0m \u001b[32m━━━━━━━━━━━━━━━━━━━━\u001b[0m\u001b[37m\u001b[0m \u001b[1m31s\u001b[0m 154ms/step - accuracy: 0.9912 - loss: 0.0265 - val_accuracy: 0.8106 - val_loss: 0.6828\n",
      "Epoch 8/10\n",
      "\u001b[1m200/200\u001b[0m \u001b[32m━━━━━━━━━━━━━━━━━━━━\u001b[0m\u001b[37m\u001b[0m \u001b[1m32s\u001b[0m 158ms/step - accuracy: 0.9954 - loss: 0.0187 - val_accuracy: 0.8200 - val_loss: 0.8496\n",
      "Epoch 9/10\n",
      "\u001b[1m200/200\u001b[0m \u001b[32m━━━━━━━━━━━━━━━━━━━━\u001b[0m\u001b[37m\u001b[0m \u001b[1m27s\u001b[0m 133ms/step - accuracy: 0.9954 - loss: 0.0177 - val_accuracy: 0.8138 - val_loss: 0.8768\n",
      "Epoch 10/10\n",
      "\u001b[1m200/200\u001b[0m \u001b[32m━━━━━━━━━━━━━━━━━━━━\u001b[0m\u001b[37m\u001b[0m \u001b[1m28s\u001b[0m 142ms/step - accuracy: 0.9962 - loss: 0.0135 - val_accuracy: 0.8131 - val_loss: 0.9361\n"
     ]
    },
    {
     "data": {
      "text/plain": [
       "<keras.src.callbacks.history.History at 0x1d567c652d0>"
      ]
     },
     "execution_count": 26,
     "metadata": {},
     "output_type": "execute_result"
    }
   ],
   "source": [
    "model.fit(x_train,y_train,epochs=10, validation_split=0.2)"
   ]
  },
  {
   "cell_type": "markdown",
   "id": "51919aea",
   "metadata": {},
   "source": [
    "### Make prediction with X_test"
   ]
  },
  {
   "cell_type": "code",
   "execution_count": 27,
   "id": "631d4e7f",
   "metadata": {},
   "outputs": [
    {
     "name": "stdout",
     "output_type": "stream",
     "text": [
      "\u001b[1m63/63\u001b[0m \u001b[32m━━━━━━━━━━━━━━━━━━━━\u001b[0m\u001b[37m\u001b[0m \u001b[1m2s\u001b[0m 36ms/step\n"
     ]
    }
   ],
   "source": [
    "y_pred = model.predict(x_test)"
   ]
  },
  {
   "cell_type": "code",
   "execution_count": 28,
   "id": "fd4418e0",
   "metadata": {},
   "outputs": [
    {
     "data": {
      "text/plain": [
       "array([0.0056102], dtype=float32)"
      ]
     },
     "execution_count": 28,
     "metadata": {},
     "output_type": "execute_result"
    }
   ],
   "source": [
    "y_pred[0]"
   ]
  },
  {
   "cell_type": "markdown",
   "id": "bb2d0c16",
   "metadata": {},
   "source": [
    "### Convert to 0 and 1 with higher probability towards 1"
   ]
  },
  {
   "cell_type": "code",
   "execution_count": 29,
   "id": "30cf0090",
   "metadata": {},
   "outputs": [],
   "source": [
    "pred = []\n",
    "for i in y_pred:\n",
    "    if i>0.5:\n",
    "        pred.append(1)\n",
    "    else:\n",
    "        pred.append(0)"
   ]
  },
  {
   "cell_type": "markdown",
   "id": "902a2da4",
   "metadata": {},
   "source": [
    "### Evaluate the model"
   ]
  },
  {
   "cell_type": "code",
   "execution_count": 30,
   "id": "cff9ea47",
   "metadata": {},
   "outputs": [
    {
     "name": "stdout",
     "output_type": "stream",
     "text": [
      "\u001b[1m250/250\u001b[0m \u001b[32m━━━━━━━━━━━━━━━━━━━━\u001b[0m\u001b[37m\u001b[0m \u001b[1m8s\u001b[0m 33ms/step - accuracy: 0.9949 - loss: 0.0277\n"
     ]
    },
    {
     "data": {
      "text/plain": [
       "[0.19234226644039154, 0.9617499709129333]"
      ]
     },
     "execution_count": 30,
     "metadata": {},
     "output_type": "execute_result"
    }
   ],
   "source": [
    "model.evaluate(x_train,y_train)"
   ]
  },
  {
   "cell_type": "markdown",
   "id": "1c8bd282",
   "metadata": {},
   "source": [
    "### Check accuracy score"
   ]
  },
  {
   "cell_type": "code",
   "execution_count": 31,
   "id": "1a79cb87",
   "metadata": {},
   "outputs": [],
   "source": [
    "from sklearn.metrics import accuracy_score, classification_report, confusion_matrix"
   ]
  },
  {
   "cell_type": "code",
   "execution_count": 32,
   "id": "c95133ed",
   "metadata": {},
   "outputs": [
    {
     "data": {
      "text/plain": [
       "0.8245"
      ]
     },
     "execution_count": 32,
     "metadata": {},
     "output_type": "execute_result"
    }
   ],
   "source": [
    "accuracy_score(y_test,pred)"
   ]
  },
  {
   "cell_type": "markdown",
   "id": "d14f7b63",
   "metadata": {},
   "source": [
    "### Check confusion matrix"
   ]
  },
  {
   "cell_type": "code",
   "execution_count": 33,
   "id": "7f27dcad",
   "metadata": {},
   "outputs": [
    {
     "data": {
      "text/plain": [
       "<Axes: >"
      ]
     },
     "execution_count": 33,
     "metadata": {},
     "output_type": "execute_result"
    },
    {
     "data": {
      "image/png": "[encoded data removed]",
      "text/plain": [
       "<Figure size 640x480 with 2 Axes>"
      ]
     },
     "metadata": {},
     "output_type": "display_data"
    }
   ],
   "source": [
    "sns.heatmap(confusion_matrix(y_test,pred),annot=True,fmt='d')"
   ]
  },
  {
   "cell_type": "markdown",
   "id": "953c5941",
   "metadata": {},
   "source": [
    "### Print Classification report"
   ]
  },
  {
   "cell_type": "code",
   "execution_count": 34,
   "id": "e36f417b",
   "metadata": {},
   "outputs": [
    {
     "name": "stdout",
     "output_type": "stream",
     "text": [
      "              precision    recall  f1-score   support\n",
      "\n",
      "           0       0.81      0.83      0.82       982\n",
      "           1       0.84      0.82      0.83      1018\n",
      "\n",
      "    accuracy                           0.82      2000\n",
      "   macro avg       0.82      0.82      0.82      2000\n",
      "weighted avg       0.82      0.82      0.82      2000\n",
      "\n"
     ]
    }
   ],
   "source": [
    "print(classification_report(y_test,pred))"
   ]
  },
  {
   "cell_type": "markdown",
   "id": "fc0490b3",
   "metadata": {},
   "source": [
    "***"
   ]
  }
 ],
 "metadata": {
  "kernelspec": {
   "display_name": "Python 3 (ipykernel)",
   "language": "python",
   "name": "python3"
  },
  "language_info": {
   "codemirror_mode": {
    "name": "ipython",
    "version": 3
   },
   "file_extension": ".py",
   "mimetype": "text/x-python",
   "name": "python",
   "nbconvert_exporter": "python",
   "pygments_lexer": "ipython3",
   "version": "3.11.5"
  }
 },
 "nbformat": 4,
 "nbformat_minor": 5
}
